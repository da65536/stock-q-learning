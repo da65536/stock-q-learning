{
 "cells": [
  {
   "cell_type": "code",
   "execution_count": 1,
   "metadata": {},
   "outputs": [],
   "source": [
    "import numpy as np # linear algebra\n",
    "import pandas as pd # data processing, CSV file I/O (e.g. pd.read_csv)\n",
    "%matplotlib inline"
   ]
  },
  {
   "cell_type": "code",
   "execution_count": 2,
   "metadata": {
    "scrolled": false
   },
   "outputs": [],
   "source": [
    "import matplotlib.pyplot as plt\n",
    "\n",
    "def rough_plot(in_list, num_group):\n",
    "    rough_list = list()\n",
    "    tmp_sum = 0\n",
    "    \n",
    "    for i in range(1, len(in_list)):\n",
    "        tmp_sum += in_list[i]\n",
    "    \n",
    "        if(i%num_group == num_group-1):\n",
    "            rough_list.append(tmp_sum / num_group)\n",
    "            tmp_sum = 0\n",
    "            \n",
    "    plt.plot(rough_list)"
   ]
  },
  {
   "cell_type": "code",
   "execution_count": 3,
   "metadata": {},
   "outputs": [],
   "source": [
    "import math\n",
    "from fractions import Fraction\n",
    "\n",
    "class StockQLData:\n",
    "    'Result data of approximated q-learning of stock price'\n",
    "    \n",
    "    def __init__(self, action_level, data_len, ratio_num_local, trial_range):\n",
    "        self.last_reward = list()\n",
    "        \n",
    "        self.last_w = list()\n",
    "        \n",
    "        self.rwd_sum = 0\n",
    "        self.avg_point_rwd = list()\n",
    "\n",
    "        self.act_num = np.zeros(action_level*2 + 1)\n",
    "        self.act_num_list = list()\n",
    "\n",
    "        self.ratio_local_size = math.floor(data_len/ratio_num_local)\n",
    "        self.tmp_local_act_num = np.zeros(action_level*2 + 1)\n",
    "        self.tmp_trial_act_ratio = list()\n",
    "        self.act_ratio = list() # all_trial_act_ratio\n",
    "        \n",
    "        self.trial_range = trial_range # for the default argumant of print_local_act_ratio\n",
    "        \n",
    "    def point_update_action_num(self, last_act):\n",
    "        self.act_num[last_act] += 1\n",
    "\n",
    "    \n",
    "    def point_update_rwd_sum(self, state, last_state, avg_point_rwd_func):\n",
    "        self.rwd_sum += avg_point_rwd_func(state, last_state) \n",
    "        \n",
    "    def point_update_action_ratio(self, last_act, data_index):        \n",
    "        self.tmp_local_act_num[last_act] += 1\n",
    "        if (data_index+1) % self.ratio_local_size == 0:\n",
    "            self.tmp_trial_act_ratio.append(self.tmp_local_act_num/self.tmp_local_act_num.sum())\n",
    "            self.tmp_local_act_num.fill(0)\n",
    "            \n",
    "        \n",
    "    def last_point(self, trial_length, state, init_invest, w, last_rwd_func):\n",
    "        self.avg_point_rwd.append(self.rwd_sum/(trial_length-1)) #ignore the first reward(=0)\n",
    "        self.rwd_sum = 0\n",
    "        \n",
    "        self.last_reward.append(last_rwd_func(state, init_invest))\n",
    "        \n",
    "        cp_w = w.copy()\n",
    "        self.last_w.append(cp_w)\n",
    "\n",
    "        tmp_act_num = self.act_num.copy()\n",
    "        self.act_num_list.append(tmp_act_num)\n",
    "        self.act_num.fill(0)\n",
    "        \n",
    "        if np.count_nonzero(self.tmp_local_act_num) > 0:\n",
    "            self.tmp_trial_act_ratio.append(self.tmp_local_act_num/self.tmp_local_act_num.sum())\n",
    "            self.tmp_local_act_num.fill(0)\n",
    "        self.act_ratio.append(self.tmp_trial_act_ratio.copy())\n",
    "        del self.tmp_trial_act_ratio[:] # empty the list\n",
    "\n",
    "        \n",
    "    def __act_ratio_prepare_print(self, start, end, alcnum, action_level): # the start/end trial index(can not recognize in the plot, just where data come from), actual number of local(i.e. group)\n",
    "        ret = list()\n",
    "        \n",
    "        # initialize\n",
    "        for i in range(0, alcnum):  # alcnum\n",
    "            ret.append(np.zeros(action_level*2 + 1))\n",
    "            \n",
    "        trind = start\n",
    "        lcind = 0\n",
    "        for trind in range(start, end+1):\n",
    "            for lcind in range(0, alcnum):\n",
    "                for actind in range(0, action_level*2 + 1):\n",
    "                    ret[lcind][actind] += sqld.act_ratio[trind][lcind][actind] / (end - start + 1)\n",
    "        return ret\n",
    "\n",
    "        \n",
    "    # print the series with local rate ratio\n",
    "    def print_local_act_ratio(self, data, action_level, start_trind=0, end_trind=None):\n",
    "        if end_trind is None:\n",
    "            end_trind = trial_range - 1\n",
    "        \n",
    "        alcnum = len(sqld.act_ratio[0]) # actual number of local(i.e. group)\n",
    "        \n",
    "        to_plot = self.__act_ratio_prepare_print(start_trind, end_trind, alcnum, action_level)\n",
    "        \n",
    "        sf, saxarr = plt.subplots(alcnum, 2, figsize=(9, 4*alcnum)) # print all local by now\n",
    "        \n",
    "        row_count = 0\n",
    "        \n",
    "        pie_labels = [\"hold\"]\n",
    "        for i in range(1, action_level+1):\n",
    "            pie_labels.append(\"{0} buy\".format(Fraction(i, action_level)))\n",
    "        for i in range(1, action_level+1):\n",
    "            pie_labels.append(\"{0} sell\".format(Fraction(i, action_level)))\n",
    "            \n",
    "        for lcind in range(0, alcnum): # print all local by now\n",
    "            tmp_data = data.copy()\n",
    "            tmp_data = tmp_data[sqld.ratio_local_size*lcind : sqld.ratio_local_size*(lcind + 1)]\n",
    "            \n",
    "            saxarr[row_count, 0].plot(tmp_data)\n",
    "            saxarr[row_count, 0].set_title('close_price')\n",
    "            \n",
    "            saxarr[row_count, 1].pie(to_plot[lcind], labels=pie_labels)\n",
    "            saxarr[row_count, 1].set_title('act_ratio')\n",
    "            \n",
    "            \n",
    "            row_count += 1\n",
    "        "
   ]
  },
  {
   "cell_type": "markdown",
   "metadata": {},
   "source": [
    "##### lists of data in each folder: copy and paste into the cell below\n",
    "* ./input/  \n",
    "inputFolderFormat = \"./input/{0}\"\n",
    "inputCsvList = ['QCOM.csv', 'GOOG.csv', 'NOK.csv', '^DJI.csv', '^TWII.csv', \n",
    "           '^N225.csv', '^GDAXI.csv', '^IXIC.csv', '^KS11.csv', '^SSEC.csv', \n",
    "           'NSU.DE_10_5_5.csv', 'DAI.DE_10_5_5.csv', 'BMW.DE_10_5_5.csv', \n",
    "           '0050.TW.csv', '1216.TW.csv', '1301.TW.csv', '2002.TW.csv', \n",
    "           '2330.TW.csv', '2409.TW.csv', '2454.TW.csv', '1704.TW.csv']\n",
    "\n",
    "* ./input/2001_2010/  \n",
    "inputFolderFormat = \"./input/2001_2010/{0}\"\n",
    "inputCsvList = ['QCOM.csv', 'NOK.csv', '^DJI.csv', '^TWII.csv', \n",
    "            '^N225.csv', '^GDAXI.csv', '^IXIC.csv', '^KS11.csv', \n",
    "            '^SSEC.csv', 'NSU.DE.csv', 'DAI.DE.csv', 'BMW.DE.csv']"
   ]
  },
  {
   "cell_type": "code",
   "execution_count": 4,
   "metadata": {},
   "outputs": [
    {
     "name": "stdout",
     "output_type": "stream",
     "text": [
      "QCOM.csv 11111.888588781114\n",
      "GOOG.csv 36341.726904845396\n",
      "NOK.csv 33253.607879852905\n",
      "^DJI.csv 16611.18295916791\n",
      "^TWII.csv 18510.216435631442\n",
      "^N225.csv 19458.260992801646\n",
      "^GDAXI.csv 20199.73644516605\n",
      "^IXIC.csv 22588.409052101644\n",
      "^KS11.csv 14672.508801310278\n",
      "^SSEC.csv 15501.380365708284\n",
      "NSU.DE_10_5_5.csv 28435.31353664412\n",
      "DAI.DE_10_5_5.csv 47255.550491737624\n",
      "BMW.DE_10_5_5.csv 74373.77686699883\n",
      "0050.TW.csv 15043.826192305754\n",
      "1216.TW.csv 21890.811977457513\n",
      "1301.TW.csv 14937.99656815398\n",
      "2002.TW.csv 11081.449824263796\n",
      "2330.TW.csv 21391.77176700585\n",
      "2409.TW.csv 10163.038723925974\n",
      "2454.TW.csv 30319.160171249205\n",
      "1704.TW.csv 12165.27745885581\n"
     ]
    }
   ],
   "source": [
    "inputFolderFormat = \"./input/{0}\"\n",
    "inputCsvList = ['QCOM.csv', 'GOOG.csv', 'NOK.csv', '^DJI.csv', '^TWII.csv', \n",
    "           '^N225.csv', '^GDAXI.csv', '^IXIC.csv', '^KS11.csv', '^SSEC.csv', \n",
    "           'NSU.DE_10_5_5.csv', 'DAI.DE_10_5_5.csv', 'BMW.DE_10_5_5.csv', \n",
    "           '0050.TW.csv', '1216.TW.csv', '1301.TW.csv', '2002.TW.csv', \n",
    "           '2330.TW.csv', '2409.TW.csv', '2454.TW.csv', '1704.TW.csv']\n",
    "\n",
    "\n",
    "full_action = True  # if True: buy with all cash, sell all stock\n",
    "init_invest = 10000\n",
    "trial_range = 10\n",
    "consrange = 20     # consecutive days max. in the prob conslist\n",
    "\n",
    "conslist = list()\n",
    "for i in range(0, consrange*2 + 1):\n",
    "    conslist.append([0, 0])\n",
    "\n",
    "for resource_data in inputCsvList:\n",
    "    \n",
    "    for i in range(0, consrange*2 + 1):\n",
    "        conslist[i][0] = 0\n",
    "        conslist[i][1] = 0\n",
    "    \n",
    "    input_csv = inputFolderFormat.format(resource_data)\n",
    "    #input_csv = \"./input/2001_2010/{0}\".format(resource_data)\n",
    "    data = pd.read_csv(input_csv)\n",
    "    close = data['Close']\n",
    "    close = close.fillna(method='ffill')\n",
    "    close = close.tolist()\n",
    "    np.isnan(close).any()\n",
    "\n",
    "    \n",
    "    for trial in range(0, trial_range):\n",
    "\n",
    "        state = {'NumStock': 0, 'StockPrice': close[0], 'HandCash': init_invest}\n",
    "        \n",
    "        cn = 0 # consecutive day num\n",
    "\n",
    "        for point in range(0, len(close)):\n",
    "            \n",
    "            state['StockPrice'] = close[point]\n",
    "            \n",
    "            if point == 0:\n",
    "                cn = 1 # serve as stok price going up\n",
    "            elif 1 <= cn <= consrange: # consequtive goes up\n",
    "                if close[point] >= close[point - 1]:\n",
    "                    conslist[cn][0] += 1\n",
    "                    cn += 1\n",
    "                else:\n",
    "                    conslist[cn][1] += 1\n",
    "                    cn = consrange + 1\n",
    "            elif consrange+1 <= cn <= consrange*2: # consequtive goes down\n",
    "                if close[point] < close[point - 1]:\n",
    "                    conslist[cn][1] += 1\n",
    "                    cn += 1\n",
    "                else:\n",
    "                    conslist[cn][0] += 1\n",
    "                    cn = 1\n",
    "            \n",
    "            tmp = cn\n",
    "            \n",
    "            # ar: action ratio\n",
    "            while(1):          \n",
    "                if conslist[tmp][0] + conslist[tmp][1] > 0:\n",
    "                    ar = conslist[tmp][0] / (conslist[tmp][0] + conslist[tmp][1]) # ar: prob of next price going up\n",
    "                    break\n",
    "                else:\n",
    "                    tmp -= 1\n",
    "                    if tmp == 0 or tmp == consrange:\n",
    "                        ar = 0.5\n",
    "                        break\n",
    "                    \n",
    "            if ar >= 0.5: # next price may go up, let's buy\n",
    "                ar = (ar - 0.5)*2\n",
    "                \n",
    "                if full_action:\n",
    "                    state['NumStock'] += state['HandCash'] / state['StockPrice']\n",
    "                    state['HandCash'] = 0\n",
    "                else:\n",
    "                    state['NumStock'] += state['HandCash'] * ar / state['StockPrice']\n",
    "                    state['HandCash'] *= 1 - ar\n",
    "                \n",
    "                \n",
    "                \n",
    "            else: # next price may go down, let's sell\n",
    "                ar = 1 - ar # ar: prob of next price going down\n",
    "                ar = (ar - 0.5)*2\n",
    "                \n",
    "                if full_action:\n",
    "                    state['HandCash'] += state['NumStock'] * state['StockPrice']\n",
    "                    state['NumStock'] = 0\n",
    "                else:\n",
    "                    state['HandCash'] += state['NumStock'] * ar * state['StockPrice']\n",
    "                    state['NumStock'] *= 1 - ar\n",
    "                \n",
    "                \n",
    "                \n",
    "            #print(state)\n",
    "            #print(point, ' :: ', conslist[1:15], '*****', conslist[consrange+1: consrange+15])\n",
    "    print(resource_data, state['HandCash'] + state['StockPrice']*state['NumStock'])\n",
    "    #print(resource_data, state['HandCash'] + state['StockPrice']*state['NumStock'])\n",
    "    #print(point, ' :: ', conslist[1:6], '*****', conslist[consrange+1: consrange+6])\n",
    "\n",
    "    #rough_plot(sqld.last_reward, 2)"
   ]
  },
  {
   "cell_type": "markdown",
   "metadata": {},
   "source": [
    "#### conslist explanation\n",
    "* **conslist[1] = [605, 332] ----> stock rose (one day in a row) include today**, in our previous experience, there were 605 days the tomorrow price raise, 332 days the tomorrow price fall\n",
    "* conslist[2] ----> stock rose two days in a row include today\n",
    "* ...\n",
    "* conslist[consrange] ----> stock rose {consrange} days in a row include today\n",
    "* conslist[consrange + 1] ----> stock fell (one day in a row) include today\n",
    "* conslist[consrange + 2] ----> stock fell two days in a row include today\n",
    "* ...\n",
    "* conslist[consrange*2] ----> stock fell {consrange} days in a row include today\n",
    "* **conslist[3] = [605, 332] ----> stock rose 3 days in a row include today. In our previous experience, there were 605 days the tomorrow price raise, 332 days the tomorrow price fall in the same situation(i.e. rose 3 days in a row).**"
   ]
  },
  {
   "cell_type": "code",
   "execution_count": 5,
   "metadata": {},
   "outputs": [
    {
     "data": {
      "text/plain": [
       "40"
      ]
     },
     "execution_count": 5,
     "metadata": {},
     "output_type": "execute_result"
    }
   ],
   "source": [
    "i"
   ]
  },
  {
   "cell_type": "code",
   "execution_count": 6,
   "metadata": {},
   "outputs": [
    {
     "data": {
      "text/plain": [
       "1229"
      ]
     },
     "execution_count": 6,
     "metadata": {},
     "output_type": "execute_result"
    }
   ],
   "source": [
    "point"
   ]
  },
  {
   "cell_type": "code",
   "execution_count": 7,
   "metadata": {},
   "outputs": [
    {
     "data": {
      "text/plain": [
       "9"
      ]
     },
     "execution_count": 7,
     "metadata": {},
     "output_type": "execute_result"
    }
   ],
   "source": [
    "trial"
   ]
  },
  {
   "cell_type": "code",
   "execution_count": 8,
   "metadata": {},
   "outputs": [
    {
     "data": {
      "text/plain": [
       "{'HandCash': 12165.27745885581, 'NumStock': 0, 'StockPrice': 43.849998}"
      ]
     },
     "execution_count": 8,
     "metadata": {},
     "output_type": "execute_result"
    }
   ],
   "source": [
    "state"
   ]
  },
  {
   "cell_type": "code",
   "execution_count": 9,
   "metadata": {},
   "outputs": [],
   "source": [
    "#conslist"
   ]
  },
  {
   "cell_type": "code",
   "execution_count": 10,
   "metadata": {},
   "outputs": [
    {
     "data": {
      "text/plain": [
       "'1704.TW.csv'"
      ]
     },
     "execution_count": 10,
     "metadata": {},
     "output_type": "execute_result"
    }
   ],
   "source": [
    "resource_data"
   ]
  },
  {
   "cell_type": "code",
   "execution_count": 11,
   "metadata": {},
   "outputs": [
    {
     "data": {
      "text/plain": [
       "[[0, 0],\n",
       " [1680, 1500],\n",
       " [800, 870],\n",
       " [320, 480],\n",
       " [220, 100],\n",
       " [110, 110],\n",
       " [80, 30],\n",
       " [40, 40],\n",
       " [20, 20],\n",
       " [10, 10],\n",
       " [0, 10],\n",
       " [0, 0],\n",
       " [0, 0],\n",
       " [0, 0],\n",
       " [0, 0],\n",
       " [0, 0],\n",
       " [0, 0],\n",
       " [0, 0],\n",
       " [0, 0],\n",
       " [0, 0],\n",
       " [0, 0],\n",
       " [1670, 1500],\n",
       " [800, 700],\n",
       " [460, 240],\n",
       " [120, 120],\n",
       " [60, 60],\n",
       " [30, 30],\n",
       " [20, 10],\n",
       " [0, 10],\n",
       " [10, 0],\n",
       " [0, 0],\n",
       " [0, 0],\n",
       " [0, 0],\n",
       " [0, 0],\n",
       " [0, 0],\n",
       " [0, 0],\n",
       " [0, 0],\n",
       " [0, 0],\n",
       " [0, 0],\n",
       " [0, 0],\n",
       " [0, 0]]"
      ]
     },
     "execution_count": 11,
     "metadata": {},
     "output_type": "execute_result"
    }
   ],
   "source": [
    "conslist"
   ]
  },
  {
   "cell_type": "code",
   "execution_count": null,
   "metadata": {},
   "outputs": [],
   "source": []
  }
 ],
 "metadata": {
  "kernelspec": {
   "display_name": "Python 3",
   "language": "python",
   "name": "python3"
  },
  "language_info": {
   "codemirror_mode": {
    "name": "ipython",
    "version": 3
   },
   "file_extension": ".py",
   "mimetype": "text/x-python",
   "name": "python",
   "nbconvert_exporter": "python",
   "pygments_lexer": "ipython3",
   "version": "3.5.2"
  }
 },
 "nbformat": 4,
 "nbformat_minor": 2
}
