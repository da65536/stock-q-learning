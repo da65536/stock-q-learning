{
 "cells": [
  {
   "cell_type": "code",
   "execution_count": 1,
   "metadata": {},
   "outputs": [],
   "source": [
    "import numpy as np # linear algebra\n",
    "import pandas as pd # data processing, CSV file I/O (e.g. pd.read_csv)\n",
    "%matplotlib inline"
   ]
  },
  {
   "cell_type": "code",
   "execution_count": 2,
   "metadata": {
    "scrolled": false
   },
   "outputs": [],
   "source": [
    "import matplotlib.pyplot as plt\n",
    "\n",
    "def rough_plot(in_list, num_group):\n",
    "    rough_list = list()\n",
    "    tmp_sum = 0\n",
    "    \n",
    "    for i in range(1, len(in_list)):\n",
    "        tmp_sum += in_list[i]\n",
    "    \n",
    "        if(i%num_group == num_group-1):\n",
    "            rough_list.append(tmp_sum / num_group)\n",
    "            tmp_sum = 0\n",
    "            \n",
    "    plt.plot(rough_list)"
   ]
  },
  {
   "cell_type": "code",
   "execution_count": 3,
   "metadata": {},
   "outputs": [],
   "source": [
    "import sys\n",
    "\n",
    "def next_state(state, action, action_level):\n",
    "    next_state = state.copy()\n",
    "    if (action > 2*action_level) or action < 0:\n",
    "        print(\"action = \", action)\n",
    "        sys.exit(\"error, action undefined! nxt\")\n",
    "\n",
    "    if action >= 1 and action <= action_level:\n",
    "        # then buy\n",
    "        \n",
    "        if state['HandCash'] > 0:\n",
    "            next_state['HandCash'] = state['HandCash']*(1 - action/action_level)\n",
    "            next_state['NumStock'] = state['NumStock'] + \\\n",
    "                                     (state['HandCash']/state['StockPrice'])*(action/action_level)\n",
    "\n",
    "    elif action >= (action_level + 1) and action <= (action_level + action_level) :\n",
    "        # then sell\n",
    "        \n",
    "        if state['NumStock'] > 0:\n",
    "            next_state['NumStock'] = state['NumStock']*(1 - (action-action_level)/action_level)\n",
    "            next_state['HandCash'] = state['HandCash'] + \\\n",
    "                                     (state['StockPrice']*state['NumStock'])*((action-action_level)/action_level)\n",
    "    \n",
    "    return next_state\n",
    "\n",
    "\n",
    "def reward(state, init_invest):\n",
    "    return (state['NumStock']*state['StockPrice'] + state['HandCash']) - init_invest\n",
    "\n",
    "def my_reward(curr, last):\n",
    "    return (curr['NumStock']*curr['StockPrice'] + curr['HandCash']) - \\\n",
    "           (last['NumStock']*last['StockPrice'] + last['HandCash'])"
   ]
  },
  {
   "cell_type": "code",
   "execution_count": 4,
   "metadata": {},
   "outputs": [
    {
     "name": "stdout",
     "output_type": "stream",
     "text": [
      "QCOM.csv 4362.479009836666\n",
      "NOK.csv -3544.0370194918905\n",
      "^DJI.csv 870.0999905823795\n",
      "^TWII.csv 4379.444919644278\n",
      "^N225.csv -647.5721320195088\n",
      "^GDAXI.csv 1567.9605517373438\n",
      "^IXIC.csv 1416.1912325075104\n",
      "^KS11.csv 11651.006624929983\n",
      "^SSEC.csv 2739.8850994019\n",
      "NSU.DE.csv 36198.77458528407\n",
      "DAI.DE.csv 2366.39508434821\n",
      "BMW.DE.csv 5257.5096434246125\n"
     ]
    }
   ],
   "source": [
    "from random import randint\n",
    "import math\n",
    "\n",
    "relist = ['QCOM.csv', 'GOOG.csv', 'NOK.csv', '^DJI.csv', '^TWII.csv', '^N225.csv', '^GDAXI.csv', \\\n",
    "          '^IXIC.csv', '^KS11.csv', '^SSEC.csv', \\\n",
    "         'NSU.DE_10_5_5.csv', 'DAI.DE_10_5_5.csv', 'BMW.DE_10_5_5.csv']\n",
    "\n",
    "# for data in input/2001_2010/\n",
    "relist = ['QCOM.csv', 'NOK.csv', '^DJI.csv', '^TWII.csv', '^N225.csv', '^GDAXI.csv', \\\n",
    "          '^IXIC.csv', '^KS11.csv', '^SSEC.csv', \\\n",
    "         'NSU.DE.csv', 'DAI.DE.csv', 'BMW.DE.csv']\n",
    "\n",
    "#relist = ['^IXIC.csv']\n",
    "\n",
    "last_rwd_func = reward\n",
    "avg_point_rwd_func = my_reward\n",
    "\n",
    "action_level = 3\n",
    "init_invest = 10000\n",
    "trial_range = 1000\n",
    "\n",
    "for resource_data in relist:\n",
    "    \n",
    "    #input_csv = \"../input/{0}\".format(resource_data)\n",
    "    input_csv = \"../input/2001_2010/{0}\".format(resource_data)\n",
    "    qcom = pd.read_csv(input_csv)\n",
    "    qclose = qcom['Close']\n",
    "    qclose = qclose.fillna(method='ffill')\n",
    "    qclose = qclose.tolist()\n",
    "    np.isnan(qclose).any()\n",
    "\n",
    "\n",
    "    last_reward_list = list()\n",
    "\n",
    "\n",
    "    for trial in range(0, trial_range):\n",
    "\n",
    "        state = {'NumStock': 0, 'StockPrice': qclose[0], 'HandCash': init_invest}\n",
    "\n",
    "        for point in range(0, len(qclose)):\n",
    "\n",
    "            # new price revealed!\n",
    "            state['StockPrice'] = qclose[point]\n",
    "\n",
    "            if point == len(qclose)-1:\n",
    "                last_reward_list.append(last_rwd_func(state, init_invest))\n",
    "\n",
    "\n",
    "            # determine the next state\n",
    "            act = randint(0, 2*action_level)\n",
    "            state = next_state(state, act, action_level)\n",
    "\n",
    "    print(resource_data, sum(last_reward_list) / float(len(last_reward_list)))"
   ]
  }
 ],
 "metadata": {
  "kernelspec": {
   "display_name": "Python 3",
   "language": "python",
   "name": "python3"
  },
  "language_info": {
   "codemirror_mode": {
    "name": "ipython",
    "version": 3
   },
   "file_extension": ".py",
   "mimetype": "text/x-python",
   "name": "python",
   "nbconvert_exporter": "python",
   "pygments_lexer": "ipython3",
   "version": "3.5.2"
  }
 },
 "nbformat": 4,
 "nbformat_minor": 2
}
