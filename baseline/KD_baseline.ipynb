{
 "cells": [
  {
   "cell_type": "code",
   "execution_count": 1,
   "metadata": {},
   "outputs": [],
   "source": [
    "import numpy as np # linear algebra\n",
    "import pandas as pd # data processing, CSV file I/O (e.g. pd.read_csv)\n",
    "%matplotlib inline"
   ]
  },
  {
   "cell_type": "code",
   "execution_count": 2,
   "metadata": {
    "scrolled": false
   },
   "outputs": [],
   "source": [
    "import matplotlib.pyplot as plt\n",
    "\n",
    "def rough_plot(in_list, num_group):\n",
    "    rough_list = list()\n",
    "    tmp_sum = 0\n",
    "    \n",
    "    for i in range(1, len(in_list)):\n",
    "        tmp_sum += in_list[i]\n",
    "    \n",
    "        if(i%num_group == num_group-1):\n",
    "            rough_list.append(tmp_sum / num_group)\n",
    "            tmp_sum = 0\n",
    "            \n",
    "    plt.plot(rough_list)"
   ]
  },
  {
   "cell_type": "code",
   "execution_count": 3,
   "metadata": {},
   "outputs": [],
   "source": [
    "import sys\n",
    "\n",
    "def next_state(state, action, action_level):\n",
    "    next_state = state.copy()\n",
    "    if (action > 2*action_level) or action < 0:\n",
    "        print(\"action = \", action)\n",
    "        sys.exit(\"error, action undefined! nxt\")\n",
    "\n",
    "    if action >= 1 and action <= action_level:\n",
    "        # then buy\n",
    "        \n",
    "        if state['HandCash'] > 0:\n",
    "            next_state['HandCash'] = state['HandCash']*(1 - action/action_level)\n",
    "            next_state['NumStock'] = state['NumStock'] + \\\n",
    "                                     (state['HandCash']/state['StockPrice'])*(action/action_level)\n",
    "\n",
    "    elif action >= (action_level + 1) and action <= (action_level + action_level) :\n",
    "        # then sell\n",
    "        \n",
    "        if state['NumStock'] > 0:\n",
    "            next_state['NumStock'] = state['NumStock']*(1 - (action-action_level)/action_level)\n",
    "            next_state['HandCash'] = state['HandCash'] + \\\n",
    "                                     (state['StockPrice']*state['NumStock'])*((action-action_level)/action_level)\n",
    "    \n",
    "    return next_state\n",
    "\n",
    "\n",
    "def reward(state, init_invest):\n",
    "    return (state['NumStock']*state['StockPrice'] + state['HandCash']) - init_invest\n",
    "\n",
    "def my_reward(curr, last):\n",
    "    return (curr['NumStock']*curr['StockPrice'] + curr['HandCash']) - \\\n",
    "           (last['NumStock']*last['StockPrice'] + last['HandCash'])"
   ]
  },
  {
   "cell_type": "code",
   "execution_count": 4,
   "metadata": {},
   "outputs": [],
   "source": [
    "\n",
    "\n",
    "def feature_5_conti(k_today, d_today, k_yestd, d_yestd, action, action_level):\n",
    "    inter = (k_yestd+d_yestd+k_today+d_today)/4\n",
    "    sinter = inter/100 # scaled inter\n",
    "    if((k_yestd > d_yestd and k_today < d_today and inter > 50) or \\\n",
    "       (k_yestd < d_yestd and k_today > d_today and inter < 50)):\n",
    "        # saction= sell all:1, sell:1~0.5, hold:0.5, buy:0.5~0, buy all:0\n",
    "        # the diff btw saction & sinter(i.e. inter/100) : smaller is better(then return larger value)\n",
    "        \n",
    "        if(action <= action_level):\n",
    "            saction = (action_level - action)/(2*action_level) # scaled action\n",
    "        else:\n",
    "            saction = action/(2*action_level)\n",
    "            \n",
    "        return 1-abs(sinter-saction)\n",
    "        \n",
    "    else: # best to hold\n",
    "        if(action <= action_level): # hold\n",
    "            return (action_level - action)/float(action_level)\n",
    "        elif(action_level < action <= 2*action_level):\n",
    "            return (2*action_level - action)/float(action_level)\n",
    "    \n",
    "# from feature_6_my  \n",
    "def feature_5_dis(k_today, d_today, k_yestd, d_yestd, action, action_level):\n",
    "    inter = (k_yestd+d_yestd+k_today+d_today)/4\n",
    "    if(k_yestd < d_yestd and k_today > d_today and inter < 30): # buy\n",
    "        if(action <= action_level):\n",
    "            return (action + action_level)/float(2*action_level)\n",
    "        elif(action_level < action <= 2*action_level):\n",
    "            return (2*action_level - action)/float(2*action_level)\n",
    "       \n",
    "    elif(k_yestd > d_yestd and k_today < d_today and inter > 70): # sell\n",
    "        if(action <= action_level):\n",
    "            return (action_level - action)/float(2*action_level)\n",
    "        elif(action_level < action <= 2*action_level):\n",
    "            return (action)/float(2*action_level)\n",
    "    else:\n",
    "        if(action <= action_level): # hold\n",
    "            return (action_level - action)/float(action_level)\n",
    "        elif(action_level < action <= 2*action_level):\n",
    "            return (2*action_level - action)/float(action_level)"
   ]
  },
  {
   "cell_type": "code",
   "execution_count": 5,
   "metadata": {},
   "outputs": [],
   "source": [
    "from random import randint\n",
    "\n",
    "def V_value(k_today, d_today, k_yestd, d_yestd, state,\n",
    "            action_level):\n",
    "    v = 0\n",
    "    first = 1 # flag of the frist iteration\n",
    "    v_act = ''\n",
    "    for action in range(0, (2*action_level + 1)):\n",
    "        \n",
    "        # choose feature_5_conti or feature_5_dis here!!\n",
    "        curr_q = feature_5_dis(k_today, d_today, k_yestd, d_yestd, action, action_level)\n",
    "        \n",
    "        if first == 1:\n",
    "            first = 0\n",
    "            v = curr_q\n",
    "            v_act = action\n",
    "        elif curr_q > v:\n",
    "            v = curr_q\n",
    "            v_act = action\n",
    "        elif curr_q == v:\n",
    "            flip = randint(0, 1)\n",
    "            if flip == 1:\n",
    "                v = curr_q\n",
    "                v_act = action\n",
    "    \n",
    "    # add the if statement when u want to know the effective action. don't add when u want to know the intented action\n",
    "    #if v == Q_value(k_today, d_today, k_yestd, d_yestd, price_list, state, 0, w, action_level):\n",
    "        #v_act = 0\n",
    "        \n",
    "        \n",
    "    #print(\"[v, v_act] = \", [v, v_act])\n",
    "    return [v, v_act]"
   ]
  },
  {
   "cell_type": "code",
   "execution_count": 6,
   "metadata": {},
   "outputs": [
    {
     "name": "stdout",
     "output_type": "stream",
     "text": [
      "QCOM.csv 1446.7439614239356\n",
      "NOK.csv -8207.079268636993\n",
      "^DJI.csv -2895.1126957332253\n",
      "^TWII.csv -2296.974758897023\n",
      "^N225.csv -3786.629827558072\n",
      "^GDAXI.csv -5035.8887012431\n",
      "^IXIC.csv -5232.37561649745\n",
      "^KS11.csv 3076.3458500958313\n",
      "^SSEC.csv -6226.404387313925\n",
      "NSU.DE.csv 52451.32715598359\n",
      "DAI.DE.csv -5845.169962271076\n",
      "BMW.DE.csv 1115.3455702890424\n"
     ]
    }
   ],
   "source": [
    "from random import randint\n",
    "import math\n",
    "import stockstats\n",
    "\n",
    "relist = ['QCOM.csv', 'GOOG.csv', 'NOK.csv', '^DJI.csv', '^TWII.csv', '^N225.csv', '^GDAXI.csv', \\\n",
    "          '^IXIC.csv', '^KS11.csv', '^SSEC.csv', \\\n",
    "         'NSU.DE_10_5_5.csv', 'DAI.DE_10_5_5.csv', 'BMW.DE_10_5_5.csv']\n",
    "\n",
    "# for data in input/2001_2010/\n",
    "relist = ['QCOM.csv', 'NOK.csv', '^DJI.csv', '^TWII.csv', '^N225.csv', '^GDAXI.csv', \\\n",
    "          '^IXIC.csv', '^KS11.csv', '^SSEC.csv', \\\n",
    "         'NSU.DE.csv', 'DAI.DE.csv', 'BMW.DE.csv']\n",
    "\n",
    "#relist = ['^IXIC.csv']\n",
    "\n",
    "action_level = 3\n",
    "last_rwd_func = reward\n",
    "avg_point_rwd_func = my_reward\n",
    "\n",
    "init_invest = 10000\n",
    "\n",
    "for resource_data in relist:\n",
    "    #input_csv = \"../input/{0}\".format(resource_data)\n",
    "    input_csv = \"../input/2001_2010/{0}\".format(resource_data)\n",
    "    qcom = pd.read_csv(input_csv)\n",
    "    qclose = qcom['Close']\n",
    "    qclose = qclose.fillna(method='ffill')\n",
    "    qclose = qclose.tolist()\n",
    "    np.isnan(qclose).any()\n",
    "\n",
    "    \n",
    "    # preparing data for feature_5\n",
    "    qcomStockStat = stockstats.StockDataFrame.retype(qcom)\n",
    "    qcomStockStat[['kdjk','kdjd','kdjj']]\n",
    "    qkdjk = qcomStockStat['kdjk'].tolist()\n",
    "    qkdjd = qcomStockStat['kdjd'].tolist()\n",
    "    \n",
    "    \n",
    "    # initial state\n",
    "    state = {'NumStock': 0, 'StockPrice': qclose[0], 'HandCash': init_invest}\n",
    "\n",
    "    for point in range(0, len(qclose)):\n",
    "\n",
    "        # new price revealed!\n",
    "        state['StockPrice'] = qclose[point]\n",
    "\n",
    "        # prepare for the arguments passed later\n",
    "        last_1_k = qkdjk[point-1]  \n",
    "        last_1_d = qkdjd[point-1] \n",
    "        last_2_k = qkdjk[point-2] \n",
    "        last_2_d = qkdjd[point-2] \n",
    "        now_k = qkdjk[point]\n",
    "        now_d = qkdjd[point]\n",
    "\n",
    "\n",
    "        # determine the next state\n",
    "        act = (V_value(now_k, now_d, last_1_k, last_1_d, state, action_level))[1]\n",
    "                \n",
    "        state = next_state(state, act, action_level)\n",
    "        \n",
    "        #print(act)\n",
    "\n",
    "    print(resource_data, last_rwd_func(state, init_invest))"
   ]
  },
  {
   "cell_type": "code",
   "execution_count": 13,
   "metadata": {},
   "outputs": [
    {
     "data": {
      "text/plain": [
       "[<matplotlib.lines.Line2D at 0x7f8208a2b438>]"
      ]
     },
     "execution_count": 13,
     "metadata": {},
     "output_type": "execute_result"
    },
    {
     "data": {
      "image/png": "[encoded data removed]",
      "text/plain": [
       "<Figure size 432x288 with 1 Axes>"
      ]
     },
     "metadata": {},
     "output_type": "display_data"
    }
   ],
   "source": [
    "plt.plot(qclose[0:500])\n",
    "plt.plot(qkdjk[0:500])\n",
    "plt.plot(qkdjd[0:500])"
   ]
  },
  {
   "cell_type": "code",
   "execution_count": null,
   "metadata": {},
   "outputs": [],
   "source": []
  }
 ],
 "metadata": {
  "kernelspec": {
   "display_name": "Python 3",
   "language": "python",
   "name": "python3"
  },
  "language_info": {
   "codemirror_mode": {
    "name": "ipython",
    "version": 3
   },
   "file_extension": ".py",
   "mimetype": "text/x-python",
   "name": "python",
   "nbconvert_exporter": "python",
   "pygments_lexer": "ipython3",
   "version": "3.5.2"
  }
 },
 "nbformat": 4,
 "nbformat_minor": 2
}
