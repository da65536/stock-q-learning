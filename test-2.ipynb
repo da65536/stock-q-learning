{
 "cells": [
  {
   "cell_type": "code",
   "execution_count": 1,
   "metadata": {},
   "outputs": [],
   "source": [
    "import stockstats as ss"
   ]
  },
  {
   "cell_type": "code",
   "execution_count": 2,
   "metadata": {},
   "outputs": [],
   "source": [
    "import numpy as np # linear algebra\n",
    "import pandas as pd # data processing, CSV file I/O (e.g. pd.read_csv)\n",
    "%matplotlib inline"
   ]
  },
  {
   "cell_type": "code",
   "execution_count": 3,
   "metadata": {},
   "outputs": [],
   "source": [
    "resource_data = 'QCOM.csv'\n",
    "input_csv = \"./input/{0}\".format(resource_data)\n",
    "qcom = pd.read_csv(input_csv)"
   ]
  },
  {
   "cell_type": "code",
   "execution_count": 4,
   "metadata": {},
   "outputs": [
    {
     "data": {
      "text/plain": [
       "pandas.core.frame.DataFrame"
      ]
     },
     "execution_count": 4,
     "metadata": {},
     "output_type": "execute_result"
    }
   ],
   "source": [
    "type(qcom)"
   ]
  },
  {
   "cell_type": "code",
   "execution_count": null,
   "metadata": {},
   "outputs": [],
   "source": [
    "def feature_7(price_list, state, action, action_level):\n",
    "    if(action > 2*action_level) or action < 0:\n",
    "        sys.exit(\"error, action undefined!\")\n",
    "        \n",
    "    price_avg = sum(price_list) / float(len(price_list))\n",
    "    \n",
    "    #stock price is higher than avg_price means the stock is going up\n",
    "    if price_avg <= state['StockPrice']:\n",
    "        price_trend = 1\n",
    "    else:\n",
    "        price_trend = 0\n",
    "    \n",
    "    #stock is going up, we should buy\n",
    "    if price_trend == 1:\n",
    "        if(action <= action_level):\n",
    "            return (action + action_level)/float(2*action_level)\n",
    "        elif(action_level < action <= 2*action_level):\n",
    "            return (2*action_level - action)/float(2*action_level)\n",
    "    #stock is going down, sell\n",
    "    elif price_trend == 0:\n",
    "        if(action <= action_level):\n",
    "            return (action_level - action)/float(2*action_level)\n",
    "        elif(action_level < action <= 2*action_level):\n",
    "            return (action)/float(2*action_level)"
   ]
  },
  {
   "cell_type": "code",
   "execution_count": 2,
   "metadata": {},
   "outputs": [],
   "source": [
    "def list_rev_count(inlist):\n",
    "    ret = 0\n",
    "    for i in range(2, len(inlist)):\n",
    "        if (inlist[i] - inlist[i-1]) * (inlist[i-1] - inlist[i-2]) < 0:\n",
    "            ret = ret + 1\n",
    "    return ret\n",
    "\n",
    "def feature_8_vari(price_list, action, action_level):\n",
    "    if(action > 2*action_level) or action < 0:\n",
    "        sys.exit(\"error, action undefined!\")\n",
    "    \n",
    "    revcount = list_rev_count(price_list)\n",
    "    \n",
    "    if revcount > len(price_list) / 3:  # best to hold\n",
    "        if(action <= action_level): \n",
    "            return (action_level - action)/float(action_level)\n",
    "        elif(action_level < action <= 2*action_level):\n",
    "            return (2*action_level - action)/float(action_level)"
   ]
  },
  {
   "cell_type": "code",
   "execution_count": null,
   "metadata": {},
   "outputs": [],
   "source": []
  }
 ],
 "metadata": {
  "kernelspec": {
   "display_name": "Python 3",
   "language": "python",
   "name": "python3"
  },
  "language_info": {
   "codemirror_mode": {
    "name": "ipython",
    "version": 3
   },
   "file_extension": ".py",
   "mimetype": "text/x-python",
   "name": "python",
   "nbconvert_exporter": "python",
   "pygments_lexer": "ipython3",
   "version": "3.5.2"
  }
 },
 "nbformat": 4,
 "nbformat_minor": 2
}
