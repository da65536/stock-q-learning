{
 "cells": [
  {
   "cell_type": "code",
   "execution_count": 1,
   "metadata": {},
   "outputs": [],
   "source": [
    "import numpy as np # linear algebra\n",
    "import pandas as pd # data processing, CSV file I/O (e.g. pd.read_csv)\n",
    "%matplotlib inline"
   ]
  },
  {
   "cell_type": "code",
   "execution_count": 2,
   "metadata": {},
   "outputs": [],
   "source": [
    "resource_data = 'QCOM.csv'\n",
    "input_csv = \"./input/{0}\".format(resource_data)\n",
    "qcom = pd.read_csv(input_csv)"
   ]
  },
  {
   "cell_type": "code",
   "execution_count": 3,
   "metadata": {},
   "outputs": [],
   "source": [
    "qclose = qcom['Close']"
   ]
  },
  {
   "cell_type": "code",
   "execution_count": 4,
   "metadata": {},
   "outputs": [],
   "source": [
    "qclose = qclose.tolist()"
   ]
  },
  {
   "cell_type": "code",
   "execution_count": 5,
   "metadata": {},
   "outputs": [],
   "source": [
    "action_level = 1"
   ]
  },
  {
   "cell_type": "markdown",
   "metadata": {},
   "source": [
    "if action_level = 3, there are 3*2+1=7 actions to choose:  \n",
    "1:buy with 1/3 cash u have,  \n",
    "2:buy with 2/3 cash u have,  \n",
    "3:buy with all cash u have,  \n",
    "4:sell 1/3 stocks u have,  \n",
    "5:sell 2/3 stocks u have,  \n",
    "6:sell all stocks u have,  \n",
    "7:hold.  \n",
    "p.s. using the integer to represent te actions"
   ]
  },
  {
   "cell_type": "code",
   "execution_count": 6,
   "metadata": {
    "scrolled": true
   },
   "outputs": [
    {
     "data": {
      "image/png": "[encoded data removed]",
      "text/plain": [
       "<Figure size 432x288 with 1 Axes>"
      ]
     },
     "metadata": {},
     "output_type": "display_data"
    }
   ],
   "source": [
    "import matplotlib.pyplot as plt\n",
    "\n",
    "def rough_plot(in_list, num_group):\n",
    "    rough_list = list()\n",
    "    tmp_sum = 0\n",
    "    \n",
    "    for i in range(1, len(qclose)):\n",
    "        tmp_sum += qclose[i]\n",
    "    \n",
    "        if(i%num_group == num_group-1):\n",
    "            rough_list.append(tmp_sum / num_group)\n",
    "            tmp_sum = 0\n",
    "            \n",
    "    plt.plot(rough_list)\n",
    "    \n",
    "    \n",
    "rough_plot(qclose, 10)"
   ]
  },
  {
   "cell_type": "code",
   "execution_count": 7,
   "metadata": {},
   "outputs": [],
   "source": [
    "import matplotlib.pyplot as plt\n",
    "import numpy as np\n",
    "from sklearn import datasets, linear_model\n",
    "from sklearn.metrics import mean_squared_error, r2_score\n",
    "\n",
    "def linear_pred(li_in):\n",
    "    li = li_in.copy()\n",
    "    \n",
    "    li_arr = np.asarray(li)\n",
    "    li_arr = np.reshape(li_arr, (len(li), 1))\n",
    "    x_arr = np.arange(len(li))\n",
    "    x_arr = np.reshape(x_arr, (len(li), 1))\n",
    "\n",
    "    regr = linear_model.LinearRegression()\n",
    "    regr.fit(x_arr, li_arr)\n",
    "    pred = regr.predict(len(li))\n",
    "    return pred[0, 0]\n"
   ]
  },
  {
   "cell_type": "code",
   "execution_count": 8,
   "metadata": {},
   "outputs": [],
   "source": [
    "import sys\n",
    "\n",
    "def next_state(state, action, action_level):\n",
    "    next_state = state.copy()\n",
    "    if (action > 2*action_level + 1) or action <= 0:\n",
    "        sys.exit(\"error, action undefined!\")\n",
    "\n",
    "    if action >= 1 and action <= action_level:\n",
    "        # then buy\n",
    "        \n",
    "        if state['HandCash'] > 0:\n",
    "            next_state['HandCash'] = state['HandCash']*(1 - action/action_level)\n",
    "            next_state['NumStock'] = state['NumStock'] + \\\n",
    "                                     (state['HandCash']/state['StockPrice'])*(action/action_level)\n",
    "\n",
    "    elif action >= (action_level + 1) and action <= (action_level + action_level) :\n",
    "        # then sell\n",
    "        \n",
    "        if state['NumStock'] > 0:\n",
    "            next_state['NumStock'] = state['NumStock']*(1 - (action-action_level)/action_level)\n",
    "            next_state['HandCash'] = state['HandCash'] + \\\n",
    "                                     (state['StockPrice']*state['NumStock'])*((action-action_level)/action_level)\n",
    "    \n",
    "    return next_state\n",
    "\n",
    "\n",
    "def reward(state, init_invest):\n",
    "    return (state['NumStock']*state['StockPrice'] + state['HandCash']) - init_invest\n",
    "\n",
    "\n",
    "def my_reward_old(curr, last):\n",
    "    return (curr['NumStock']*curr['StockPrice'] + curr['HandCash']) - \\\n",
    "           (last['NumStock']*last['StockPrice'] + last['HandCash'])\n",
    "    \n",
    "def my_reward(curr, last):\n",
    "    k = (curr['NumStock']*curr['StockPrice'] + curr['HandCash']) - \\\n",
    "           (last['NumStock']*last['StockPrice'] + last['HandCash'])\n",
    "    if k < 0:\n",
    "        k = k*10\n",
    "    return k"
   ]
  },
  {
   "cell_type": "code",
   "execution_count": 9,
   "metadata": {},
   "outputs": [],
   "source": [
    "# feature 1 : indicate the difference of #stock after the action from the state\n",
    "# state is a dictionary with 3 elements\n",
    "def feature_1(state, action, action_level):\n",
    "    if (action > 2*action_level + 1) or action <= 0:\n",
    "        sys.exit(\"error, action undefined!\")\n",
    "        \n",
    "    elif action >= 1 and action <= action_level: # buy\n",
    "        tmp = (state['HandCash']/state['StockPrice'])*(action/action_level)\n",
    "        if tmp > feature_1.max:\n",
    "            feature_1.max = tmp\n",
    "            return 1\n",
    "        elif tmp < feature_1.min:\n",
    "            feature_1.min = tmp\n",
    "            return 0\n",
    "        else:\n",
    "            return (tmp - feature_1.min) / (feature_1.max - feature_1.min)\n",
    "\n",
    "    elif action >= (action_level + 1) and action <= (action_level + action_level) : # sell\n",
    "        tmp = (-1)*state['NumStock'] * ((action-action_level)/action_level)\n",
    "        if tmp > feature_1.max:\n",
    "            feature_1.max = tmp\n",
    "            return 1\n",
    "        elif tmp < feature_1.min:\n",
    "            feature_1.min = tmp\n",
    "            return 0\n",
    "        else:\n",
    "            return (tmp - feature_1.min) / (feature_1.max - feature_1.min)\n",
    "\n",
    "    elif action == (2*action_level + 1): # hold\n",
    "        return 0\n",
    "feature_1.max = 1\n",
    "feature_1.min = 0\n",
    "    \n",
    "\n",
    "# feature 2 : indicate the difference of #Cash in Hand after the action from the state\n",
    "def feature_2(state, action, action_level):\n",
    "    if (action > 2*action_level + 1) or action <= 0:\n",
    "        sys.exit(\"error, action undefined!\")\n",
    "        \n",
    "    elif action >= 1 and action <= action_level: # buy\n",
    "        tmp = (-1)*state['HandCash'] * (action/action_level)\n",
    "        if tmp > feature_2.max:\n",
    "            feature_2.max = tmp\n",
    "            return 1\n",
    "        elif tmp < feature_2.min:\n",
    "            feature_2.min = tmp\n",
    "            return 0\n",
    "        else:\n",
    "            return (tmp - feature_2.min) / (feature_2.max - feature_2.min)\n",
    "\n",
    "    elif action >= (action_level + 1) and action <= (action_level + action_level) : # sell\n",
    "        tmp = state['StockPrice']*state['NumStock'] * ((action-action_level)/action_level)\n",
    "        if tmp > feature_2.max:\n",
    "            feature_2.max = tmp\n",
    "            return 1\n",
    "        elif tmp < feature_2.min:\n",
    "            feature_2.min = tmp\n",
    "            return 0\n",
    "        else:\n",
    "            return (tmp - feature_2.min) / (feature_2.max - feature_2.min)\n",
    "\n",
    "    elif action == (2*action_level + 1): # hold\n",
    "        return 0\n",
    "feature_2.max = 1\n",
    "feature_2.min = 0\n",
    "\n",
    "    \n",
    "# linear_based_rwd    \n",
    "def feature_3(price_list, state, action, action_level):\n",
    "    if (action > 2*action_level + 1) or action <= 0:\n",
    "        sys.exit(\"error, action undefined!\")\n",
    "    \n",
    "    next_price = linear_pred(price_list)\n",
    "    next_s = next_state(state, action, action_level)\n",
    "    next_s['StockPrice'] = next_price\n",
    "        \n",
    "    tmp = my_reward(next_s, state)\n",
    "    if tmp > feature_3.max:\n",
    "        feature_3.max = tmp\n",
    "        return 1\n",
    "    elif tmp < feature_3.min:\n",
    "        feature_3.min = tmp\n",
    "        return 0\n",
    "    else:\n",
    "        return (tmp - feature_3.min) / (feature_3.max - feature_3.min)\n",
    "    \n",
    "    #return my_reward(next_s, state)/100\n",
    "feature_3.max = 1\n",
    "feature_3.min = 0\n",
    "\n",
    "\n",
    "def feature_4(price_list, state, action, action_level):\n",
    "    if (action > 2*action_level + 1) or action <= 0:\n",
    "        sys.exit(\"error, action undefined!\")\n",
    "    \n",
    "    next_price = linear_pred(price_list)\n",
    "    next_s = next_state(state, action, action_level)\n",
    "    next_s['StockPrice'] = next_price\n",
    "    \n",
    "    if next_price >= state['StockPrice']:\n",
    "        best_action = action_level # buy with all cash u have\n",
    "    else:\n",
    "        best_action = 2*action_level # sell all stocks u have\n",
    "    best_next_s = next_state(state, best_action, action_level)\n",
    "    best_next_s['StockPrice'] = next_price\n",
    "    \n",
    "    \n",
    "    tmp = my_reward(best_next_s, state) - my_reward(next_s, state)\n",
    "    if tmp > feature_3.max:\n",
    "        feature_3.max = tmp\n",
    "        return 1\n",
    "    elif tmp < feature_3.min:\n",
    "        feature_3.min = tmp\n",
    "        return 0\n",
    "    else:\n",
    "        return (tmp - feature_3.min) / (feature_3.max - feature_3.min)\n",
    "feature_4.max = 1\n",
    "feature_4.min = 0"
   ]
  },
  {
   "cell_type": "code",
   "execution_count": 10,
   "metadata": {},
   "outputs": [],
   "source": [
    "from random import randint\n",
    "def Q_value(price_list, state, action, w, action_level):\n",
    "    if (action > 2*action_level + 1) or action <= 0:\n",
    "        sys.exit(\"error, action undefined!\")\n",
    "    \n",
    "    return w[0]*feature_1(state, action, action_level) + \\\n",
    "           w[1]*feature_2(state, action, action_level) + \\\n",
    "           w[2]*feature_3(price_list, state, action, action_level)+ \\\n",
    "           w[3]*feature_4(price_list, state, action, action_level)\n",
    "    \n",
    "\n",
    "def V_value(price_list, state, w, action_level):\n",
    "    v = 0\n",
    "    first = 1 # flag of the frist iteration\n",
    "    v_act = ''\n",
    "    for action in range(1, (2*action_level + 1) + 1):\n",
    "        curr_q = Q_value(price_list, state, action, w, action_level)\n",
    "        if first == 1:\n",
    "            first = 0\n",
    "            v = curr_q\n",
    "            v_act = action\n",
    "        elif curr_q > v:\n",
    "            v = curr_q\n",
    "            v_act = action\n",
    "        elif curr_q == v:\n",
    "            flip = randint(0, 1)\n",
    "            if flip == 1:\n",
    "                v = curr_q\n",
    "                v_act = action\n",
    "    return [v, v_act]"
   ]
  },
  {
   "cell_type": "code",
   "execution_count": 11,
   "metadata": {},
   "outputs": [],
   "source": [
    "class StockQLData:\n",
    "    'Result data of approximated q-learning of stock price'\n",
    "    \n",
    "    def __init__(self, action_level):\n",
    "        self.last_reward = list()\n",
    "        self.last = list()\n",
    "        self.last_w = list()\n",
    "        self.rwd_sum = 0\n",
    "        self.avg_my_reward = list()\n",
    "\n",
    "        self.act_num = np.zeros((action_level*2 + 1) + 1)\n",
    "        self.act_num_list = list()\n",
    "        \n",
    "        \n",
    "    def point_update_action(self, last_act):\n",
    "        self.act_num[last_act] += 1\n",
    "\n",
    "    \n",
    "    def point_update_my_rwd_sum(self, state, last_state):\n",
    "        self.rwd_sum += my_reward(state, last_state) \n",
    "            \n",
    "        \n",
    "    def last_point(self, trial_length, state, init_invest, w):\n",
    "        self.avg_my_reward.append(self.rwd_sum/(trial_length-1)) #ignore the first reward(=0)\n",
    "        self.last_reward.append(reward(state, init_invest))\n",
    "        cp_w = w.copy()\n",
    "        self.last_w.append(cp_w)\n",
    "\n",
    "        tmp_act_num = self.act_num.copy()\n",
    "        self.act_num_list.append(tmp_act_num)\n",
    "        \n",
    "        self.rwd_sum = 0\n",
    "\n",
    "        self.act_num.fill(0)\n",
    "    "
   ]
  },
  {
   "cell_type": "markdown",
   "metadata": {},
   "source": [
    "after an action ---> call it the (new) state  \n",
    "here: last_state_bf_act -> |act| -> last_state -> |new price release| -> (new) state  \n",
    "but the last_state can be dismiss because when calculating(my_reward), it can be alternated by last_state_bf_act and keep the rule of the first line(i.e. after an action ---> call it the (new) state)"
   ]
  },
  {
   "cell_type": "code",
   "execution_count": 12,
   "metadata": {},
   "outputs": [
    {
     "name": "stdout",
     "output_type": "stream",
     "text": [
      "trial =  10\n",
      "trial =  10\n",
      "trial =  10\n",
      "trial =  10\n",
      "trial =  10\n",
      "trial =  10\n",
      "trial =  10\n",
      "trial =  10\n",
      "trial =  10\n",
      "trial =  10\n"
     ]
    }
   ],
   "source": [
    "from random import randint\n",
    "import math\n",
    "\n",
    "init_invest = 10000\n",
    "# initial state\n",
    "state = {'NumStock': 0, 'StockPrice': qclose[0], 'HandCash': init_invest}\n",
    "last_state = {'NumStock': 0, 'StockPrice': qclose[0], 'HandCash': init_invest}\n",
    "last_state_bf_act = {'NumStock': 0, 'StockPrice': qclose[0], 'HandCash': init_invest}\n",
    "#last_act = 'HOLD'\n",
    "#last_act = 2*action_level+1\n",
    "last_act = action_level\n",
    "\n",
    "init_w = [-0.1, -0.1, -0.1, -0.1]\n",
    "w = init_w.copy()\n",
    "tmp_w = [0, 0, 0, 0]\n",
    "ita = 0.2\n",
    "epsilon = 0.2\n",
    "gama = 0\n",
    "\n",
    "f3_x_num = 5\n",
    "\n",
    "sqld = StockQLData(action_level)\n",
    "\n",
    "trial_range = 10\n",
    "\n",
    "for trial in range(0, trial_range):\n",
    "    print(\"trial = \", trial)\n",
    "    \n",
    "    state = {'NumStock': 0, 'StockPrice': qclose[0], 'HandCash': init_invest}\n",
    "    last_state = {'NumStock': 0, 'StockPrice': qclose[0], 'HandCash': init_invest}\n",
    "    last_state_bf_act = {'NumStock': 0, 'StockPrice': qclose[0], 'HandCash': init_invest}\n",
    "    \n",
    "    for point in range(f3_x_num, len(qclose)):\n",
    "    #for point in range(f3_x_num, 10):\n",
    "\n",
    "        # new price revealed!\n",
    "        state['NumStock'] = last_state['NumStock']\n",
    "        state['HandCash'] = last_state['HandCash']\n",
    "        state['StockPrice'] = qclose[point]\n",
    "        \n",
    "        # collect data           \n",
    "        sqld.point_update_action(last_act)        \n",
    "        sqld.point_update_my_rwd_sum(state, last_state)\n",
    "        \n",
    "        if point == len(qclose)-1:\n",
    "            #print('in loop watch w: ', w)\n",
    "            sqld.last_point(len(qclose), state, init_invest, w)\n",
    "        \n",
    "        \n",
    "        # prepare for the arguments passed later\n",
    "        last_f3_list = qclose[point-f3_x_num:point]\n",
    "        curr_f3_list = qclose[point-f3_x_num+1:point+1]\n",
    "        \n",
    "        tmp_w[0] = w[0] - ita * \\\n",
    "                          (Q_value(last_f3_list, last_state_bf_act, last_act, w, action_level) - \n",
    "                              (my_reward(state, last_state) + gama*V_value(curr_f3_list, state, w, action_level)[0])) * \\\n",
    "                          feature_1(last_state_bf_act, last_act, action_level)\n",
    "                \n",
    "        tmp_w[1] = w[1] - ita * \\\n",
    "                          (Q_value(last_f3_list, last_state_bf_act, last_act, w, action_level) - \n",
    "                              (my_reward(state, last_state) + gama*V_value(curr_f3_list, state, w, action_level)[0])) * \\\n",
    "                          feature_2(last_state_bf_act, last_act, action_level)\n",
    "                \n",
    "        tmp_w[2] = w[2] - ita * \\\n",
    "                          (Q_value(last_f3_list, last_state_bf_act, last_act, w, action_level) - \n",
    "                              (my_reward(state, last_state) + gama*V_value(curr_f3_list, state, w, action_level)[0])) * \\\n",
    "                          feature_3(last_f3_list, last_state_bf_act, last_act, action_level)\n",
    "                \n",
    "        tmp_w[3] = w[3] - ita * \\\n",
    "                          (Q_value(last_f3_list, last_state_bf_act, last_act, w, action_level) - \n",
    "                              (my_reward(state, last_state) + gama*V_value(curr_f3_list, state, w, action_level)[0])) * \\\n",
    "                          feature_4(last_f3_list, last_state_bf_act, last_act, action_level)\n",
    "                \n",
    "        for i in range(0, len(w)):\n",
    "            w[i] = tmp_w[i]\n",
    "        \n",
    "        \n",
    "        last_state_bf_act = state.copy()\n",
    "        \n",
    "        # determine the next state\n",
    "        if randint(1, 10) <= 10*epsilon:\n",
    "            # act randomly\n",
    "            last_act = randint(1, 2*action_level + 1)\n",
    "        else:\n",
    "            last_act = (V_value(curr_f3_list, state, w, action_level))[1]\n",
    "\n",
    "        last_state = next_state(state, last_act, action_level)"
   ]
  },
  {
   "cell_type": "code",
   "execution_count": 13,
   "metadata": {},
   "outputs": [
    {
     "data": {
      "text/plain": [
       "1074.6528422320293"
      ]
     },
     "execution_count": 13,
     "metadata": {},
     "output_type": "execute_result"
    }
   ],
   "source": [
    "sum(sqld.last_reward) / float(len(sqld.last_reward))"
   ]
  },
  {
   "cell_type": "code",
   "execution_count": 16,
   "metadata": {
    "scrolled": true
   },
   "outputs": [
    {
     "data": {
      "text/plain": [
       "[array([   0.,   95.,  158., 1002.]),\n",
       " array([  0., 102., 159., 994.]),\n",
       " array([   0.,   86.,  158., 1011.]),\n",
       " array([   0.,   80.,  155., 1020.]),\n",
       " array([  0.,  87., 186., 982.]),\n",
       " array([  0.,  91., 168., 996.]),\n",
       " array([  0.,  85., 192., 978.]),\n",
       " array([  0.,  80., 182., 993.]),\n",
       " array([   0.,   79.,  138., 1038.]),\n",
       " array([   0.,   65.,  154., 1036.])]"
      ]
     },
     "execution_count": 16,
     "metadata": {},
     "output_type": "execute_result"
    }
   ],
   "source": [
    "sqld.act_num_list"
   ]
  },
  {
   "cell_type": "code",
   "execution_count": 52,
   "metadata": {
    "scrolled": true
   },
   "outputs": [
    {
     "data": {
      "image/png": "[encoded data removed]",
      "text/plain": [
       "<Figure size 1296x288 with 3 Axes>"
      ]
     },
     "metadata": {},
     "output_type": "display_data"
    }
   ],
   "source": [
    "import matplotlib.pyplot as plt\n",
    "import math\n",
    "\n",
    "hist_avg_num_per_bin = 1\n",
    "\n",
    "f, axarr = plt.subplots(1, 3, figsize=(18, 4))\n",
    "axarr[0].plot(sqld.last_reward)\n",
    "axarr[0].set_title('last_reward')\n",
    "axarr[1].boxplot(sqld.last_reward, vert = 0)\n",
    "axarr[1].set_title('last_reward')\n",
    "axarr[2].hist(sqld.last_reward, bins = math.ceil(trial_range/hist_avg_num_per_bin))\n",
    "axarr[2].set_title('last_reward')\n",
    "#axarr[1].set_facecolor((1.0, 0.47, 0.42))\n",
    "\n",
    "plot_title = \"{0}, trial={1}, gama={2}, w={3}\".format(resource_data, trial_range, gama, init_w)\n",
    "plt.suptitle(plot_title, fontsize=16)\n",
    "\n",
    "plot_name = \"./plots/{0}, trial={1}, gama={2}, w={3}.png\".format(resource_data, trial_range, gama, init_w)\n",
    "plt.savefig(plot_name, dpi=None, facecolor='w', edgecolor='w',\n",
    "        orientation='portrait', papertype=None, format=None,\n",
    "        transparent=False, bbox_inches=None, pad_inches=0.1,\n",
    "        frameon=None)"
   ]
  }
 ],
 "metadata": {
  "kernelspec": {
   "display_name": "Python 3",
   "language": "python",
   "name": "python3"
  },
  "language_info": {
   "codemirror_mode": {
    "name": "ipython",
    "version": 3
   },
   "file_extension": ".py",
   "mimetype": "text/x-python",
   "name": "python",
   "nbconvert_exporter": "python",
   "pygments_lexer": "ipython3",
   "version": "3.5.2"
  }
 },
 "nbformat": 4,
 "nbformat_minor": 2
}
