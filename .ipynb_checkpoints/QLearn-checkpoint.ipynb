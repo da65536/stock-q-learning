{
 "cells": [
  {
   "cell_type": "code",
   "execution_count": 1,
   "metadata": {},
   "outputs": [],
   "source": [
    "# read data\n",
    "# set up state definition (stock price part)\n",
    "# construct initial table\n",
    "# for loop\n",
    "    # decide action by current state & table / random\n",
    "    # get reward and get into the new state\n",
    "    # update the table"
   ]
  },
  {
   "cell_type": "code",
   "execution_count": 2,
   "metadata": {},
   "outputs": [],
   "source": [
    "import pandas as pd\n",
    "import numpy as np\n",
    "import math\n",
    "from random import randint\n",
    "import matplotlib.pyplot as plt\n",
    "%matplotlib inline"
   ]
  },
  {
   "cell_type": "code",
   "execution_count": 3,
   "metadata": {},
   "outputs": [],
   "source": [
    "bin_count = 200"
   ]
  },
  {
   "cell_type": "code",
   "execution_count": 4,
   "metadata": {},
   "outputs": [],
   "source": [
    "def close_to_state(close, closeUB, closeLB, bin_count): # convert close price to the state's first dimension value\n",
    "    if close >= closeUB:\n",
    "        return bin_count-1\n",
    "    elif close <= closeLB:\n",
    "        return 0\n",
    "    bin_size = (closeUB - closeLB) / bin_count\n",
    "    return math.floor((close - closeLB) / bin_size)"
   ]
  },
  {
   "cell_type": "code",
   "execution_count": 5,
   "metadata": {},
   "outputs": [],
   "source": [
    "# read data\n",
    "data = pd.read_csv(\"./input/GOOG.csv\")\n",
    "close = data['Close']\n",
    "close = close.fillna(method='ffill')"
   ]
  },
  {
   "cell_type": "code",
   "execution_count": 6,
   "metadata": {},
   "outputs": [],
   "source": [
    "# set up state definition (stock price part)\n",
    "closeUB = 1100\n",
    "closeLB = 500\n",
    "remain_range = 3\n",
    "\n",
    "# construct initial table\n",
    "# state is defined by: [closeprice, remain/bear/bull, withdraw/invest] : 10*3*2 + 2 actions: sell , buy\n",
    "table = np.zeros(shape=(bin_count, 3, 2, 2))\n",
    "state = np.zeros(shape=(3), dtype=int) # correspond to the table\n",
    "last_state = np.zeros(shape=(3), dtype=int)\n",
    "value = np.zeros(shape=(2)) # handCash, handStock\n",
    "last_value = np.zeros(shape=(2)) # handCash, handStock\n",
    "last_action = 0 # 0:sell 1:buy"
   ]
  },
  {
   "cell_type": "code",
   "execution_count": 7,
   "metadata": {},
   "outputs": [
    {
     "name": "stdout",
     "output_type": "stream",
     "text": [
      "trial =  0  total value =  713.4840293619654\n",
      "trial =  1  total value =  10672.765583754328\n",
      "trial =  2  total value =  26432.835252083263\n",
      "trial =  3  total value =  36166.4707373217\n",
      "trial =  4  total value =  48852.73757067708\n",
      "trial =  5  total value =  36763.134441246584\n",
      "trial =  6  total value =  55573.12006279445\n",
      "trial =  7  total value =  54167.06601879173\n",
      "trial =  8  total value =  60197.62499200831\n",
      "trial =  9  total value =  91905.8278703728\n",
      "trial =  10  total value =  95115.65140813663\n",
      "trial =  11  total value =  75114.38468583299\n",
      "trial =  12  total value =  98984.86604627287\n",
      "trial =  13  total value =  77577.09441771085\n",
      "trial =  14  total value =  141425.05800062863\n",
      "trial =  15  total value =  129657.34485566284\n",
      "trial =  16  total value =  95047.82430492263\n",
      "trial =  17  total value =  116648.15149465854\n",
      "trial =  18  total value =  142674.84977541427\n",
      "trial =  19  total value =  143965.94671494476\n",
      "trial =  20  total value =  172128.36490459234\n",
      "trial =  21  total value =  143432.22634174547\n",
      "trial =  22  total value =  123847.18420732778\n",
      "trial =  23  total value =  120068.45737882427\n",
      "trial =  24  total value =  119128.506766234\n",
      "trial =  25  total value =  127376.96872094442\n",
      "trial =  26  total value =  203316.67219465054\n",
      "trial =  27  total value =  140374.79899349716\n",
      "trial =  28  total value =  117344.60791343168\n",
      "trial =  29  total value =  143834.7618367722\n",
      "trial =  30  total value =  180030.90686673886\n",
      "trial =  31  total value =  108007.99534241977\n",
      "trial =  32  total value =  141767.57149365183\n",
      "trial =  33  total value =  128865.90471369971\n",
      "trial =  34  total value =  129777.16393290213\n",
      "trial =  35  total value =  148561.91616722316\n",
      "trial =  36  total value =  138954.20894269773\n",
      "trial =  37  total value =  133472.37496642652\n",
      "trial =  38  total value =  138070.18424252246\n",
      "trial =  39  total value =  163814.03462886714\n",
      "trial =  40  total value =  162659.73499058382\n",
      "trial =  41  total value =  150323.80782691806\n",
      "trial =  42  total value =  159292.6490889105\n",
      "trial =  43  total value =  131598.27142675788\n",
      "trial =  44  total value =  118843.97850923304\n",
      "trial =  45  total value =  126076.88280364769\n",
      "trial =  46  total value =  111623.36401925709\n",
      "trial =  47  total value =  116112.68818820135\n",
      "trial =  48  total value =  129558.32027353527\n",
      "trial =  49  total value =  131554.08183378947\n",
      "trial =  50  total value =  167777.04045753658\n",
      "trial =  51  total value =  156804.13219827376\n",
      "trial =  52  total value =  144823.05763546872\n",
      "trial =  53  total value =  135394.19763992386\n",
      "trial =  54  total value =  181934.03818922353\n",
      "trial =  55  total value =  157622.8386001393\n",
      "trial =  56  total value =  142705.13699412468\n",
      "trial =  57  total value =  156299.9528586689\n",
      "trial =  58  total value =  203028.12749841716\n",
      "trial =  59  total value =  152891.4030830647\n",
      "trial =  60  total value =  98931.28964790452\n",
      "trial =  61  total value =  152912.23899772784\n",
      "trial =  62  total value =  137353.7302525829\n",
      "trial =  63  total value =  186775.59947884365\n",
      "trial =  64  total value =  127050.08765461756\n",
      "trial =  65  total value =  135434.34053847415\n",
      "trial =  66  total value =  147992.23992119232\n",
      "trial =  67  total value =  144116.72248862498\n",
      "trial =  68  total value =  148553.1975777267\n",
      "trial =  69  total value =  165502.08707848965\n",
      "trial =  70  total value =  148037.38164287823\n",
      "trial =  71  total value =  170088.54833438952\n",
      "trial =  72  total value =  207023.5960557265\n",
      "trial =  73  total value =  194958.25543066257\n",
      "trial =  74  total value =  165280.6859977299\n",
      "trial =  75  total value =  112284.97142491612\n",
      "trial =  76  total value =  140889.2585189841\n",
      "trial =  77  total value =  157187.1310464585\n",
      "trial =  78  total value =  126734.06048357967\n",
      "trial =  79  total value =  150728.11143779958\n",
      "trial =  80  total value =  205786.3901098495\n",
      "trial =  81  total value =  154045.80094396477\n",
      "trial =  82  total value =  111999.8668869345\n",
      "trial =  83  total value =  128360.60450871434\n",
      "trial =  84  total value =  165313.3327885133\n",
      "trial =  85  total value =  95276.6414737831\n",
      "trial =  86  total value =  125088.64042231627\n",
      "trial =  87  total value =  181059.73520107046\n",
      "trial =  88  total value =  144086.90154611497\n",
      "trial =  89  total value =  169351.57556579434\n",
      "trial =  90  total value =  135410.80029394876\n",
      "trial =  91  total value =  144985.3189877306\n",
      "trial =  92  total value =  124420.85117050642\n",
      "trial =  93  total value =  138311.69520331436\n",
      "trial =  94  total value =  177141.07189598924\n",
      "trial =  95  total value =  154048.35258714127\n",
      "trial =  96  total value =  151203.58416063417\n",
      "trial =  97  total value =  151564.41217753175\n",
      "trial =  98  total value =  159133.71140596006\n",
      "trial =  99  total value =  140718.88964365824\n",
      "trial =  100  total value =  159382.0228733561\n",
      "trial =  101  total value =  142161.0874432161\n",
      "trial =  102  total value =  158191.23544584593\n",
      "trial =  103  total value =  132975.89515031973\n",
      "trial =  104  total value =  128401.81285694576\n",
      "trial =  105  total value =  137442.82205362435\n",
      "trial =  106  total value =  186511.07326018246\n",
      "trial =  107  total value =  206661.53819258028\n",
      "trial =  108  total value =  176830.57452050608\n",
      "trial =  109  total value =  148152.95962114772\n",
      "trial =  110  total value =  200314.2457658444\n",
      "trial =  111  total value =  115030.8030366544\n",
      "trial =  112  total value =  140247.19530379106\n",
      "trial =  113  total value =  132777.27257352546\n",
      "trial =  114  total value =  128001.66509626727\n",
      "trial =  115  total value =  138703.7192753278\n",
      "trial =  116  total value =  98230.10383626065\n",
      "trial =  117  total value =  162618.2091979394\n",
      "trial =  118  total value =  133439.13045014808\n",
      "trial =  119  total value =  83136.87736271405\n",
      "trial =  120  total value =  114655.48490678627\n",
      "trial =  121  total value =  149780.8934949881\n",
      "trial =  122  total value =  140294.78528973428\n",
      "trial =  123  total value =  132606.21188337522\n",
      "trial =  124  total value =  122083.61658939085\n",
      "trial =  125  total value =  176470.68247240345\n",
      "trial =  126  total value =  130893.4649498261\n",
      "trial =  127  total value =  159912.82276926615\n",
      "trial =  128  total value =  114938.77600710369\n",
      "trial =  129  total value =  168315.59774724266\n",
      "trial =  130  total value =  128577.01082784598\n",
      "trial =  131  total value =  223527.69378250666\n",
      "trial =  132  total value =  142049.91948153535\n",
      "trial =  133  total value =  139432.9314100107\n",
      "trial =  134  total value =  125457.66535406432\n",
      "trial =  135  total value =  122453.6673887292\n",
      "trial =  136  total value =  140874.03553495507\n",
      "trial =  137  total value =  175228.20800669497\n",
      "trial =  138  total value =  158719.91482751913\n",
      "trial =  139  total value =  109241.10217280558\n",
      "trial =  140  total value =  133672.94349384189\n",
      "trial =  141  total value =  170569.02062692153\n",
      "trial =  142  total value =  189800.58512811712\n",
      "trial =  143  total value =  176679.1941646447\n",
      "trial =  144  total value =  155783.03051338956\n",
      "trial =  145  total value =  191005.33958685014\n",
      "trial =  146  total value =  166698.28693900554\n",
      "trial =  147  total value =  151870.60034728944\n",
      "trial =  148  total value =  206653.6062834058\n",
      "trial =  149  total value =  190967.30761130576\n",
      "trial =  150  total value =  192118.43380793824\n",
      "trial =  151  total value =  162154.63743064323\n",
      "trial =  152  total value =  140630.59126210597\n",
      "trial =  153  total value =  176245.31691545155\n",
      "trial =  154  total value =  118142.4847639513\n",
      "trial =  155  total value =  124834.217347167\n",
      "trial =  156  total value =  108350.06994696117\n",
      "trial =  157  total value =  172589.48832546495\n",
      "trial =  158  total value =  165342.55836306605\n",
      "trial =  159  total value =  222099.09712805558\n",
      "trial =  160  total value =  131542.61192459447\n",
      "trial =  161  total value =  112715.54279721229\n",
      "trial =  162  total value =  182823.44181157215\n",
      "trial =  163  total value =  151826.63921696763\n",
      "trial =  164  total value =  165495.75852609944\n",
      "trial =  165  total value =  156928.0741992967\n",
      "trial =  166  total value =  159162.1468534882\n",
      "trial =  167  total value =  162236.04557262236\n",
      "trial =  168  total value =  125159.59363023861\n",
      "trial =  169  total value =  167834.42873288773\n",
      "trial =  170  total value =  171972.56482621175\n",
      "trial =  171  total value =  163076.46786940977\n",
      "trial =  172  total value =  172021.0005305657\n",
      "trial =  173  total value =  151445.1322855771\n",
      "trial =  174  total value =  105132.96282798731\n"
     ]
    },
    {
     "name": "stdout",
     "output_type": "stream",
     "text": [
      "trial =  175  total value =  135798.26549898894\n",
      "trial =  176  total value =  174420.0609310979\n",
      "trial =  177  total value =  143154.29585190833\n",
      "trial =  178  total value =  191560.10562767173\n",
      "trial =  179  total value =  123421.69491116403\n",
      "trial =  180  total value =  115891.18720002972\n",
      "trial =  181  total value =  274048.3231280699\n",
      "trial =  182  total value =  166721.84765059754\n",
      "trial =  183  total value =  126123.7478783014\n",
      "trial =  184  total value =  163464.30446498614\n",
      "trial =  185  total value =  154526.95303797748\n",
      "trial =  186  total value =  149474.7147719099\n",
      "trial =  187  total value =  114826.99537778755\n",
      "trial =  188  total value =  118789.87132167842\n",
      "trial =  189  total value =  142113.81126198347\n",
      "trial =  190  total value =  154966.25150078913\n",
      "trial =  191  total value =  119181.9383294178\n",
      "trial =  192  total value =  121207.50020620017\n",
      "trial =  193  total value =  169516.30668557083\n",
      "trial =  194  total value =  130067.93831367881\n",
      "trial =  195  total value =  120997.54912967203\n",
      "trial =  196  total value =  178689.09412195339\n",
      "trial =  197  total value =  105027.75122815107\n",
      "trial =  198  total value =  148306.66316124858\n",
      "trial =  199  total value =  150181.79101751896\n"
     ]
    }
   ],
   "source": [
    "# some parameters\n",
    "ita = 0.2 # table updating rate\n",
    "epsilon = 0.2 # random\n",
    "gama = 0.2 # decline factor of late reward\n",
    "\n",
    "trial_count = 200\n",
    "\n",
    "gain = np.zeros(shape=(trial_count))\n",
    "\n",
    "for trial in range(0, trial_count):\n",
    "    \n",
    "    state = [close_to_state(close[0], closeUB, closeLB, bin_count), 0, 0]\n",
    "    value = [10000, 0]\n",
    "    \n",
    "    for point in range(1, len(close)):\n",
    "        \n",
    "        # determine the new state\n",
    "        state[0] = close_to_state(close[point], closeUB, closeLB, bin_count)\n",
    "            \n",
    "        if close[point] - close[point-1] > remain_range:\n",
    "            state[1] = 2\n",
    "        elif remain_range >= close[point] - close[point-1] >= (-1)*remain_range:\n",
    "            state[1] = 0\n",
    "        elif close[point] - close[point-1] < (-1)*remain_range:\n",
    "            state[1] = 1\n",
    "        \n",
    "        if value[0] > 0 and value[1] == 0:\n",
    "            state[2] = 0 # withdraw\n",
    "            #print(\"handCash = \", value[0], \" handStock = \", value[1], \" point = \", point)\n",
    "        elif value[0] == 0 and value[1] > 0:\n",
    "            state[2] = 1 # invest\n",
    "            #print(\"handCash = \", value[0], \" handStock = \", value[1], \" point = \", point)\n",
    "        else:\n",
    "            print(\"abnormal, handCash = \", value[0], \" handStock = \", value[1], \" point = \", point)\n",
    "            \n",
    "            \n",
    "        # get reward and update the table\n",
    "        if table[state[0]][state[1]][state[2]][0] >= table[state[0]][state[1]][state[2]][1]:\n",
    "            best_action = 0\n",
    "        else:\n",
    "            best_action = 1\n",
    "        reward = (value[0] + value[1]*close[point]) - (last_value[0] + last_value[1]*close[point-1])\n",
    "        table[last_state[0]][last_state[1]][last_state[2]][last_action] = \\\n",
    "            (1 - ita) * table[last_state[0]][last_state[1]][last_state[2]][last_action] + \\\n",
    "            ita * (reward + gama * table[state[0]][state[1]][state[2]][best_action])    \n",
    "\n",
    "        \n",
    "        last_value = value.copy()\n",
    "        last_state = state.copy()\n",
    "        \n",
    "\n",
    "        # yet random\n",
    "        if randint(1, 10) <= 10*epsilon:\n",
    "                # act randomly\n",
    "                last_action = randint(0, 1)\n",
    "        else:\n",
    "            if table[state[0]][state[1]][state[2]][0] > table[state[0]][state[1]][state[2]][1]: \n",
    "                # sell stock\n",
    "                last_action = 0\n",
    "            elif table[state[0]][state[1]][state[2]][0] < table[state[0]][state[1]][state[2]][1]: \n",
    "                # buy stock\n",
    "                last_action = 1\n",
    "\n",
    "        if last_action == 0:\n",
    "            value[0] += value[1] * close[point]\n",
    "            value[1] = 0\n",
    "        elif last_action == 1:\n",
    "            value[1] += value[0] / close[point]\n",
    "            value[0] = 0\n",
    "        #print(value)\n",
    "    print(\"trial = \", trial, \" total value = \", value[0] + value[1]*close[point] - 10000)\n",
    "    gain[trial] = value[0] + value[1]*close[point] - 10000\n",
    "    # decide action by current state & table / random\n",
    "    \n",
    "    "
   ]
  },
  {
   "cell_type": "code",
   "execution_count": 8,
   "metadata": {},
   "outputs": [
    {
     "data": {
      "text/plain": [
       "[0, 145.64364976293942]"
      ]
     },
     "execution_count": 8,
     "metadata": {},
     "output_type": "execute_result"
    }
   ],
   "source": [
    "value"
   ]
  },
  {
   "cell_type": "code",
   "execution_count": 9,
   "metadata": {},
   "outputs": [
    {
     "data": {
      "text/plain": [
       "1099.819946"
      ]
     },
     "execution_count": 9,
     "metadata": {},
     "output_type": "execute_result"
    }
   ],
   "source": [
    "close[point]"
   ]
  },
  {
   "cell_type": "code",
   "execution_count": 10,
   "metadata": {},
   "outputs": [
    {
     "data": {
      "text/plain": [
       "[<matplotlib.lines.Line2D at 0x7fb3f7902c50>]"
      ]
     },
     "execution_count": 10,
     "metadata": {},
     "output_type": "execute_result"
    },
    {
     "data": {
      "image/png": "[encoded data removed]",
      "text/plain": [
       "<Figure size 432x288 with 1 Axes>"
      ]
     },
     "metadata": {},
     "output_type": "display_data"
    }
   ],
   "source": [
    "plt.plot(gain)"
   ]
  },
  {
   "cell_type": "markdown",
   "metadata": {},
   "source": [
    "todo next time:  \n",
    "check code  \n",
    "test set  \n",
    "why more trial get better: I think is the exploration of the \"last two dimensions\" of the table (the first two dimensions are the same in every trial)  "
   ]
  }
 ],
 "metadata": {
  "kernelspec": {
   "display_name": "Python 3",
   "language": "python",
   "name": "python3"
  },
  "language_info": {
   "codemirror_mode": {
    "name": "ipython",
    "version": 3
   },
   "file_extension": ".py",
   "mimetype": "text/x-python",
   "name": "python",
   "nbconvert_exporter": "python",
   "pygments_lexer": "ipython3",
   "version": "3.5.2"
  }
 },
 "nbformat": 4,
 "nbformat_minor": 2
}
