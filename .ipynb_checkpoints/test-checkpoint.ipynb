{
 "cells": [
  {
   "cell_type": "code",
   "execution_count": 5,
   "metadata": {},
   "outputs": [],
   "source": [
    "i = list()\n",
    "i.append(0)"
   ]
  },
  {
   "cell_type": "code",
   "execution_count": 6,
   "metadata": {},
   "outputs": [
    {
     "name": "stdout",
     "output_type": "stream",
     "text": [
      "fff\n",
      "rrr\n",
      "ddd\n"
     ]
    }
   ],
   "source": [
    "li = ['fff', 'rrr', 'ddd']\n",
    "for i in li:\n",
    "    print(i)"
   ]
  },
  {
   "cell_type": "code",
   "execution_count": 12,
   "metadata": {},
   "outputs": [],
   "source": [
    "init_w = list()\n",
    "for i in range(0, 3):\n",
    "    init_w.append([0.1, 0.1, 0.1, 0.1, 0.1, 0.1, 0.1])"
   ]
  },
  {
   "cell_type": "code",
   "execution_count": 13,
   "metadata": {},
   "outputs": [
    {
     "data": {
      "text/plain": [
       "[[0.1, 0.1, 0.1, 0.1, 0.1, 0.1, 0.1],\n",
       " [0.1, 0.1, 0.1, 0.1, 0.1, 0.1, 0.1],\n",
       " [0.1, 0.1, 0.1, 0.1, 0.1, 0.1, 0.1]]"
      ]
     },
     "execution_count": 13,
     "metadata": {},
     "output_type": "execute_result"
    }
   ],
   "source": [
    "init_w"
   ]
  },
  {
   "cell_type": "code",
   "execution_count": 14,
   "metadata": {},
   "outputs": [
    {
     "name": "stdout",
     "output_type": "stream",
     "text": [
      "139680710047520\n",
      "139680710047520\n",
      "10919520\n",
      "139680710047520\n"
     ]
    }
   ],
   "source": [
    "print(id(init_w[1][1]))\n",
    "print(id(init_w[2][1]))\n",
    "init_w[1][1] = 4\n",
    "print(id(init_w[1][1]))\n",
    "print(id(init_w[2][1]))"
   ]
  },
  {
   "cell_type": "code",
   "execution_count": 16,
   "metadata": {},
   "outputs": [
    {
     "data": {
      "text/plain": [
       "0.1"
      ]
     },
     "execution_count": 16,
     "metadata": {},
     "output_type": "execute_result"
    }
   ],
   "source": [
    "init_w[2][1]"
   ]
  },
  {
   "cell_type": "code",
   "execution_count": 11,
   "metadata": {},
   "outputs": [
    {
     "name": "stdout",
     "output_type": "stream",
     "text": [
      "10919456\n",
      "10919552\n",
      "10919456\n",
      "10919456\n",
      "2\n"
     ]
    }
   ],
   "source": [
    "li1 = [1,2,3]\n",
    "print(id(li1[1]))\n",
    "li2 = [4,5,6]\n",
    "print(id(li2[1]))\n",
    "li2[1] = li1[1]\n",
    "print(id(li1[1]))\n",
    "print(id(li2[1]))\n",
    "li1[1] = 7\n",
    "print(li2[1])"
   ]
  },
  {
   "cell_type": "code",
   "execution_count": 2,
   "metadata": {},
   "outputs": [],
   "source": [
    "import pandas as pd\n",
    "#input_csv = (\"./input/{0}\".format('BMW.DE_10_5_5.csv'))\n",
    "t = pd.read_csv(\"./input/{0}\".format('BMW.DE_10_5_5.csv'))"
   ]
  },
  {
   "cell_type": "code",
   "execution_count": 3,
   "metadata": {},
   "outputs": [
    {
     "data": {
      "text/plain": [
       "2542"
      ]
     },
     "execution_count": 3,
     "metadata": {},
     "output_type": "execute_result"
    }
   ],
   "source": [
    "len(t)"
   ]
  },
  {
   "cell_type": "code",
   "execution_count": 4,
   "metadata": {},
   "outputs": [
    {
     "data": {
      "text/plain": [
       "2542"
      ]
     },
     "execution_count": 4,
     "metadata": {},
     "output_type": "execute_result"
    }
   ],
   "source": [
    "u = pd.read_csv(\"./input/{0}\".format('DAI.DE_10_5_5.csv'))\n",
    "len(u)"
   ]
  },
  {
   "cell_type": "code",
   "execution_count": 6,
   "metadata": {},
   "outputs": [
    {
     "data": {
      "text/plain": [
       "2542"
      ]
     },
     "execution_count": 6,
     "metadata": {},
     "output_type": "execute_result"
    }
   ],
   "source": [
    "v = pd.read_csv(\"./input/{0}\".format('NSU.DE_10_5_5.csv'))\n",
    "len(v)"
   ]
  },
  {
   "cell_type": "code",
   "execution_count": 7,
   "metadata": {},
   "outputs": [],
   "source": [
    "close=(t['Close'])"
   ]
  },
  {
   "cell_type": "code",
   "execution_count": 8,
   "metadata": {},
   "outputs": [],
   "source": [
    "import matplotlib.pyplot as plt\n",
    "\n",
    "def rough_plot(in_list, num_group):\n",
    "    rough_list = list()\n",
    "    tmp_sum = 0\n",
    "    \n",
    "    for i in range(1, len(in_list)):\n",
    "        tmp_sum += in_list[i]\n",
    "    \n",
    "        if(i%num_group == num_group-1):\n",
    "            rough_list.append(tmp_sum / num_group)\n",
    "            tmp_sum = 0\n",
    "            \n",
    "    plt.plot(rough_list)"
   ]
  },
  {
   "cell_type": "code",
   "execution_count": 9,
   "metadata": {},
   "outputs": [
    {
     "data": {
      "image/png": "[encoded data removed]",
      "text/plain": [
       "<Figure size 432x288 with 1 Axes>"
      ]
     },
     "metadata": {},
     "output_type": "display_data"
    }
   ],
   "source": [
    "rough_plot(close, 2)"
   ]
  },
  {
   "cell_type": "code",
   "execution_count": 3,
   "metadata": {},
   "outputs": [],
   "source": [
    "i = 0\n",
    "if 1 <= i <= 10:\n",
    "    print(45)"
   ]
  },
  {
   "cell_type": "code",
   "execution_count": 4,
   "metadata": {},
   "outputs": [
    {
     "name": "stdout",
     "output_type": "stream",
     "text": [
      "2\n"
     ]
    }
   ],
   "source": [
    "p = (1,2)\n",
    "print(p[1])"
   ]
  },
  {
   "cell_type": "code",
   "execution_count": 5,
   "metadata": {},
   "outputs": [],
   "source": [
    "li = [1,2]\n",
    "li = list()"
   ]
  },
  {
   "cell_type": "code",
   "execution_count": 6,
   "metadata": {},
   "outputs": [
    {
     "ename": "IndexError",
     "evalue": "list index out of range",
     "output_type": "error",
     "traceback": [
      "\u001b[0;31m---------------------------------------------------------------------------\u001b[0m",
      "\u001b[0;31mIndexError\u001b[0m                                Traceback (most recent call last)",
      "\u001b[0;32m<ipython-input-6-7de105008acd>\u001b[0m in \u001b[0;36m<module>\u001b[0;34m()\u001b[0m\n\u001b[0;32m----> 1\u001b[0;31m \u001b[0mli\u001b[0m\u001b[0;34m[\u001b[0m\u001b[0;36m1\u001b[0m\u001b[0;34m]\u001b[0m\u001b[0;34m\u001b[0m\u001b[0m\n\u001b[0m",
      "\u001b[0;31mIndexError\u001b[0m: list index out of range"
     ]
    }
   ],
   "source": [
    "li[1]"
   ]
  },
  {
   "cell_type": "code",
   "execution_count": 1,
   "metadata": {},
   "outputs": [],
   "source": [
    "def feature_7(price_list, state, action, action_level):\n",
    "    if(action > 2*action_level) or action < 0:\n",
    "        sys.exit(\"error, action undefined!\")\n",
    "        \n",
    "    price_avg = sum(price_list) / float(len(price_list))\n",
    "    \n",
    "    #stock price is higher than avg_price means the stock is going up\n",
    "    if price_avg <= state['StockPrice']:\n",
    "        price_trend = 1\n",
    "    else:\n",
    "        price_trend = 0\n",
    "    \n",
    "    #stock is going up, we should buy\n",
    "    if price_trend == 1:\n",
    "        if(action <= action_level):\n",
    "            return (action + action_level)/float(2*action_level)\n",
    "        elif(action_level < action <= 2*action_level):\n",
    "            return (2*action_level - action)/float(2*action_level)\n",
    "    #stock is going down, sell\n",
    "    elif price_trend == 0:\n",
    "        if(action <= action_level):\n",
    "            return (action_level - action)/float(2*action_level)\n",
    "        elif(action_level < action <= 2*action_level):\n",
    "            return (action)/float(2*action_level)"
   ]
  },
  {
   "cell_type": "code",
   "execution_count": 3,
   "metadata": {},
   "outputs": [
    {
     "data": {
      "text/plain": [
       "0.6666666666666666"
      ]
     },
     "execution_count": 3,
     "metadata": {},
     "output_type": "execute_result"
    }
   ],
   "source": [
    "feature_7([68.349998, 67.5, 67.5, 67.5, 68.099998], {'StockPrice': 68.099998, 'HandCash': 0.0, 'LowPrice': 67.5, 'OpenPrice': 67.699997, 'HighPrice': 68.199997, 'NumStock': 169.41841482672578}, 1, 3)"
   ]
  },
  {
   "cell_type": "code",
   "execution_count": 4,
   "metadata": {},
   "outputs": [],
   "source": [
    "def feature_7(price_list, state, action, action_level):\n",
    "    if(action > 2*action_level) or action < 0:\n",
    "        sys.exit(\"error, action undefined!\")\n",
    "        \n",
    "    price_avg = sum(price_list) / float(len(price_list))\n",
    "    \n",
    "    #stock price is higher than avg_price means the stock is going up\n",
    "    if price_avg <= state['StockPrice']:\n",
    "        price_trend = 1\n",
    "    else:\n",
    "        price_trend = 0\n",
    "    \n",
    "    #stock is going up, we should buy\n",
    "    if price_trend == 1:\n",
    "        if(action <= action_level):\n",
    "            return (action + action_level)/float(2*action_level)\n",
    "        elif(action_level < action <= 2*action_level):\n",
    "            return (2*action_level - action)/float(2*action_level)\n",
    "    #stock is going down, sell\n",
    "    elif price_trend == 0:\n",
    "        if(action <= action_level):\n",
    "            return (action_level - action)/float(2*action_level)\n",
    "        elif(action_level < action <= 2*action_level):\n",
    "            return (action)/float(2*action_level)"
   ]
  },
  {
   "cell_type": "code",
   "execution_count": 5,
   "metadata": {},
   "outputs": [
    {
     "data": {
      "text/plain": [
       "0.6666666666666666"
      ]
     },
     "execution_count": 5,
     "metadata": {},
     "output_type": "execute_result"
    }
   ],
   "source": [
    "feature_7([68.349998, 67.5, 67.5, 67.5, 68.099998], {'StockPrice': 68.099998, 'HandCash': 0.0, 'LowPrice': 67.5, 'OpenPrice': 67.699997, 'HighPrice': 68.199997, 'NumStock': 169.41841482672578}, 1, 3)"
   ]
  },
  {
   "cell_type": "code",
   "execution_count": 7,
   "metadata": {},
   "outputs": [
    {
     "name": "stdout",
     "output_type": "stream",
     "text": [
      "() [1, 2, [4, 5]]\n",
      "[7, 8] [1, 2, [4, 5]]\n"
     ]
    }
   ],
   "source": [
    "li = ()\n",
    "li1 = [1,2]\n",
    "li = [4,5]\n",
    "li1.append(li)\n",
    "li = ()\n",
    "print(li, li1)\n",
    "li = [7,8]\n",
    "print(li, li1)"
   ]
  },
  {
   "cell_type": "code",
   "execution_count": 16,
   "metadata": {},
   "outputs": [],
   "source": [
    "import pandas as pd\n",
    "import numpy as np\n",
    "X = pd.DataFrame(0.1, index=np.arange(5), columns=[\"5_conti\", \"5_dis\", \"6_original\", \"6_dis\", \"6_conti\", \n",
    "                                                             \"7\", \"8_vari\", \"9_open\"])"
   ]
  },
  {
   "cell_type": "code",
   "execution_count": 17,
   "metadata": {},
   "outputs": [
    {
     "data": {
      "text/html": [
       "<div>\n",
       "<style scoped>\n",
       "    .dataframe tbody tr th:only-of-type {\n",
       "        vertical-align: middle;\n",
       "    }\n",
       "\n",
       "    .dataframe tbody tr th {\n",
       "        vertical-align: top;\n",
       "    }\n",
       "\n",
       "    .dataframe thead th {\n",
       "        text-align: right;\n",
       "    }\n",
       "</style>\n",
       "<table border=\"1\" class=\"dataframe\">\n",
       "  <thead>\n",
       "    <tr style=\"text-align: right;\">\n",
       "      <th></th>\n",
       "      <th>5_conti</th>\n",
       "      <th>5_dis</th>\n",
       "      <th>6_original</th>\n",
       "      <th>6_dis</th>\n",
       "      <th>6_conti</th>\n",
       "      <th>7</th>\n",
       "      <th>8_vari</th>\n",
       "      <th>9_open</th>\n",
       "    </tr>\n",
       "  </thead>\n",
       "  <tbody>\n",
       "    <tr>\n",
       "      <th>0</th>\n",
       "      <td>0.1</td>\n",
       "      <td>0.1</td>\n",
       "      <td>0.1</td>\n",
       "      <td>0.1</td>\n",
       "      <td>0.1</td>\n",
       "      <td>0.1</td>\n",
       "      <td>0.1</td>\n",
       "      <td>0.1</td>\n",
       "    </tr>\n",
       "    <tr>\n",
       "      <th>1</th>\n",
       "      <td>0.1</td>\n",
       "      <td>0.1</td>\n",
       "      <td>0.1</td>\n",
       "      <td>0.1</td>\n",
       "      <td>0.1</td>\n",
       "      <td>0.1</td>\n",
       "      <td>0.1</td>\n",
       "      <td>0.1</td>\n",
       "    </tr>\n",
       "    <tr>\n",
       "      <th>2</th>\n",
       "      <td>0.1</td>\n",
       "      <td>0.1</td>\n",
       "      <td>0.1</td>\n",
       "      <td>0.1</td>\n",
       "      <td>0.1</td>\n",
       "      <td>0.1</td>\n",
       "      <td>0.1</td>\n",
       "      <td>0.1</td>\n",
       "    </tr>\n",
       "    <tr>\n",
       "      <th>3</th>\n",
       "      <td>0.1</td>\n",
       "      <td>0.1</td>\n",
       "      <td>0.1</td>\n",
       "      <td>0.1</td>\n",
       "      <td>0.1</td>\n",
       "      <td>0.1</td>\n",
       "      <td>0.1</td>\n",
       "      <td>0.1</td>\n",
       "    </tr>\n",
       "    <tr>\n",
       "      <th>4</th>\n",
       "      <td>0.1</td>\n",
       "      <td>0.1</td>\n",
       "      <td>0.1</td>\n",
       "      <td>0.1</td>\n",
       "      <td>0.1</td>\n",
       "      <td>0.1</td>\n",
       "      <td>0.1</td>\n",
       "      <td>0.1</td>\n",
       "    </tr>\n",
       "  </tbody>\n",
       "</table>\n",
       "</div>"
      ],
      "text/plain": [
       "   5_conti  5_dis  6_original  6_dis  6_conti    7  8_vari  9_open\n",
       "0      0.1    0.1         0.1    0.1      0.1  0.1     0.1     0.1\n",
       "1      0.1    0.1         0.1    0.1      0.1  0.1     0.1     0.1\n",
       "2      0.1    0.1         0.1    0.1      0.1  0.1     0.1     0.1\n",
       "3      0.1    0.1         0.1    0.1      0.1  0.1     0.1     0.1\n",
       "4      0.1    0.1         0.1    0.1      0.1  0.1     0.1     0.1"
      ]
     },
     "execution_count": 17,
     "metadata": {},
     "output_type": "execute_result"
    }
   ],
   "source": [
    "X"
   ]
  },
  {
   "cell_type": "code",
   "execution_count": 18,
   "metadata": {},
   "outputs": [],
   "source": [
    "X.at[1, '5_conti'] = 10.5"
   ]
  },
  {
   "cell_type": "code",
   "execution_count": 19,
   "metadata": {},
   "outputs": [
    {
     "data": {
      "text/html": [
       "<div>\n",
       "<style scoped>\n",
       "    .dataframe tbody tr th:only-of-type {\n",
       "        vertical-align: middle;\n",
       "    }\n",
       "\n",
       "    .dataframe tbody tr th {\n",
       "        vertical-align: top;\n",
       "    }\n",
       "\n",
       "    .dataframe thead th {\n",
       "        text-align: right;\n",
       "    }\n",
       "</style>\n",
       "<table border=\"1\" class=\"dataframe\">\n",
       "  <thead>\n",
       "    <tr style=\"text-align: right;\">\n",
       "      <th></th>\n",
       "      <th>5_conti</th>\n",
       "      <th>5_dis</th>\n",
       "      <th>6_original</th>\n",
       "      <th>6_dis</th>\n",
       "      <th>6_conti</th>\n",
       "      <th>7</th>\n",
       "      <th>8_vari</th>\n",
       "      <th>9_open</th>\n",
       "    </tr>\n",
       "  </thead>\n",
       "  <tbody>\n",
       "    <tr>\n",
       "      <th>0</th>\n",
       "      <td>0.1</td>\n",
       "      <td>0.1</td>\n",
       "      <td>0.1</td>\n",
       "      <td>0.1</td>\n",
       "      <td>0.1</td>\n",
       "      <td>0.1</td>\n",
       "      <td>0.1</td>\n",
       "      <td>0.1</td>\n",
       "    </tr>\n",
       "    <tr>\n",
       "      <th>1</th>\n",
       "      <td>10.5</td>\n",
       "      <td>0.1</td>\n",
       "      <td>0.1</td>\n",
       "      <td>0.1</td>\n",
       "      <td>0.1</td>\n",
       "      <td>0.1</td>\n",
       "      <td>0.1</td>\n",
       "      <td>0.1</td>\n",
       "    </tr>\n",
       "    <tr>\n",
       "      <th>2</th>\n",
       "      <td>0.1</td>\n",
       "      <td>0.1</td>\n",
       "      <td>0.1</td>\n",
       "      <td>0.1</td>\n",
       "      <td>0.1</td>\n",
       "      <td>0.1</td>\n",
       "      <td>0.1</td>\n",
       "      <td>0.1</td>\n",
       "    </tr>\n",
       "    <tr>\n",
       "      <th>3</th>\n",
       "      <td>0.1</td>\n",
       "      <td>0.1</td>\n",
       "      <td>0.1</td>\n",
       "      <td>0.1</td>\n",
       "      <td>0.1</td>\n",
       "      <td>0.1</td>\n",
       "      <td>0.1</td>\n",
       "      <td>0.1</td>\n",
       "    </tr>\n",
       "    <tr>\n",
       "      <th>4</th>\n",
       "      <td>0.1</td>\n",
       "      <td>0.1</td>\n",
       "      <td>0.1</td>\n",
       "      <td>0.1</td>\n",
       "      <td>0.1</td>\n",
       "      <td>0.1</td>\n",
       "      <td>0.1</td>\n",
       "      <td>0.1</td>\n",
       "    </tr>\n",
       "  </tbody>\n",
       "</table>\n",
       "</div>"
      ],
      "text/plain": [
       "   5_conti  5_dis  6_original  6_dis  6_conti    7  8_vari  9_open\n",
       "0      0.1    0.1         0.1    0.1      0.1  0.1     0.1     0.1\n",
       "1     10.5    0.1         0.1    0.1      0.1  0.1     0.1     0.1\n",
       "2      0.1    0.1         0.1    0.1      0.1  0.1     0.1     0.1\n",
       "3      0.1    0.1         0.1    0.1      0.1  0.1     0.1     0.1\n",
       "4      0.1    0.1         0.1    0.1      0.1  0.1     0.1     0.1"
      ]
     },
     "execution_count": 19,
     "metadata": {},
     "output_type": "execute_result"
    }
   ],
   "source": [
    "X"
   ]
  },
  {
   "cell_type": "code",
   "execution_count": null,
   "metadata": {},
   "outputs": [],
   "source": []
  }
 ],
 "metadata": {
  "kernelspec": {
   "display_name": "Python 3",
   "language": "python",
   "name": "python3"
  },
  "language_info": {
   "codemirror_mode": {
    "name": "ipython",
    "version": 3
   },
   "file_extension": ".py",
   "mimetype": "text/x-python",
   "name": "python",
   "nbconvert_exporter": "python",
   "pygments_lexer": "ipython3",
   "version": "3.5.2"
  }
 },
 "nbformat": 4,
 "nbformat_minor": 2
}
